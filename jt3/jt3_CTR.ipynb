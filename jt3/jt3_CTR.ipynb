{
  "cells": [
    {
      "cell_type": "code",
      "execution_count": 3,
      "metadata": {},
      "outputs": [
        {
          "name": "stdout",
          "output_type": "stream",
          "text": [
            "1\n",
            "after try\n",
            "2\n",
            "after try\n",
            "here\n",
            "4\n",
            "after try\n",
            "5\n",
            "after try\n",
            "6\n",
            "after try\n"
          ]
        }
      ],
      "source": [
        "\n"
      ]
    },
    {
      "cell_type": "code",
      "execution_count": 5,
      "metadata": {
        "id": "eKxo7l_Ucvy2"
      },
      "outputs": [],
      "source": [
        "import pandas as pd\n"
      ]
    },
    {
      "cell_type": "code",
      "execution_count": 6,
      "metadata": {
        "id": "gal-D2i780i9"
      },
      "outputs": [],
      "source": [
        "from sklearn.ensemble import GradientBoostingRegressor\n",
        "from sklearn.model_selection import cross_val_score\n",
        "from sklearn.model_selection import RepeatedKFold\n",
        "from matplotlib import pyplot\n",
        "from numpy import asarray\n",
        "from numpy import mean\n",
        "from numpy import std\n",
        "from sklearn.datasets import make_regression\n",
        "from xgboost import XGBRegressor\n",
        "from sklearn.model_selection import cross_val_score\n",
        "from sklearn.model_selection import RepeatedKFold\n",
        "from matplotlib import pyplot\n",
        "from lightgbm import LGBMRegressor\n",
        "import seaborn as sns\n",
        "sns.set_style('whitegrid')\n",
        "pd.set_option('display.max_columns', 30)"
      ]
    },
    {
      "cell_type": "code",
      "execution_count": 7,
      "metadata": {},
      "outputs": [],
      "source": [
        "df = pd.read_csv(\n",
        "    'https://raw.githubusercontent.com/shreyas36/data/main/jt3%20click%20through%20rate%20prediction/train.csv')\n"
      ]
    },
    {
      "cell_type": "code",
      "execution_count": 8,
      "metadata": {
        "colab": {
          "base_uri": "https://localhost:8080/"
        },
        "id": "cTLJBPMadJK1",
        "outputId": "d4401fb0-26f7-4c50-c817-b7263eee3759"
      },
      "outputs": [
        {
          "data": {
            "text/plain": [
              "campaign_id           0\n",
              "sender                0\n",
              "subject_len           0\n",
              "body_len              0\n",
              "mean_paragraph_len    0\n",
              "day_of_week           0\n",
              "is_weekend            0\n",
              "times_of_day          0\n",
              "category              0\n",
              "product               0\n",
              "no_of_CTA             0\n",
              "mean_CTA_len          0\n",
              "is_image              0\n",
              "is_personalised       0\n",
              "is_quote              0\n",
              "is_timer              0\n",
              "is_emoticons          0\n",
              "is_discount           0\n",
              "is_price              0\n",
              "is_urgency            0\n",
              "target_audience       0\n",
              "click_rate            0\n",
              "dtype: int64"
            ]
          },
          "execution_count": 8,
          "metadata": {},
          "output_type": "execute_result"
        }
      ],
      "source": [
        "df.isnull().sum()"
      ]
    },
    {
      "cell_type": "code",
      "execution_count": 9,
      "metadata": {
        "colab": {
          "base_uri": "https://localhost:8080/",
          "height": 708
        },
        "id": "bjLgpjdBdVGq",
        "outputId": "e1933101-7d37-45ea-cbda-f5b03e7a7865"
      },
      "outputs": [
        {
          "data": {
            "text/html": [
              "<div>\n",
              "<style scoped>\n",
              "    .dataframe tbody tr th:only-of-type {\n",
              "        vertical-align: middle;\n",
              "    }\n",
              "\n",
              "    .dataframe tbody tr th {\n",
              "        vertical-align: top;\n",
              "    }\n",
              "\n",
              "    .dataframe thead th {\n",
              "        text-align: right;\n",
              "    }\n",
              "</style>\n",
              "<table border=\"1\" class=\"dataframe\">\n",
              "  <thead>\n",
              "    <tr style=\"text-align: right;\">\n",
              "      <th></th>\n",
              "      <th>count</th>\n",
              "      <th>mean</th>\n",
              "      <th>std</th>\n",
              "      <th>min</th>\n",
              "      <th>25%</th>\n",
              "      <th>50%</th>\n",
              "      <th>75%</th>\n",
              "      <th>max</th>\n",
              "    </tr>\n",
              "  </thead>\n",
              "  <tbody>\n",
              "    <tr>\n",
              "      <th>campaign_id</th>\n",
              "      <td>1888.0</td>\n",
              "      <td>944.500000</td>\n",
              "      <td>545.162973</td>\n",
              "      <td>1.0</td>\n",
              "      <td>472.750000</td>\n",
              "      <td>944.500000</td>\n",
              "      <td>1416.250000</td>\n",
              "      <td>1888.000000</td>\n",
              "    </tr>\n",
              "    <tr>\n",
              "      <th>sender</th>\n",
              "      <td>1888.0</td>\n",
              "      <td>4.395657</td>\n",
              "      <td>3.277927</td>\n",
              "      <td>0.0</td>\n",
              "      <td>3.000000</td>\n",
              "      <td>3.000000</td>\n",
              "      <td>3.000000</td>\n",
              "      <td>15.000000</td>\n",
              "    </tr>\n",
              "    <tr>\n",
              "      <th>subject_len</th>\n",
              "      <td>1888.0</td>\n",
              "      <td>86.246292</td>\n",
              "      <td>30.143206</td>\n",
              "      <td>9.0</td>\n",
              "      <td>69.000000</td>\n",
              "      <td>83.000000</td>\n",
              "      <td>98.000000</td>\n",
              "      <td>265.000000</td>\n",
              "    </tr>\n",
              "    <tr>\n",
              "      <th>body_len</th>\n",
              "      <td>1888.0</td>\n",
              "      <td>14185.780191</td>\n",
              "      <td>7327.615307</td>\n",
              "      <td>23.0</td>\n",
              "      <td>9554.500000</td>\n",
              "      <td>12689.000000</td>\n",
              "      <td>17351.500000</td>\n",
              "      <td>44491.000000</td>\n",
              "    </tr>\n",
              "    <tr>\n",
              "      <th>mean_paragraph_len</th>\n",
              "      <td>1888.0</td>\n",
              "      <td>35.239407</td>\n",
              "      <td>28.139498</td>\n",
              "      <td>4.0</td>\n",
              "      <td>21.000000</td>\n",
              "      <td>29.000000</td>\n",
              "      <td>40.000000</td>\n",
              "      <td>286.000000</td>\n",
              "    </tr>\n",
              "    <tr>\n",
              "      <th>day_of_week</th>\n",
              "      <td>1888.0</td>\n",
              "      <td>2.828390</td>\n",
              "      <td>1.763193</td>\n",
              "      <td>0.0</td>\n",
              "      <td>1.000000</td>\n",
              "      <td>3.000000</td>\n",
              "      <td>4.000000</td>\n",
              "      <td>6.000000</td>\n",
              "    </tr>\n",
              "    <tr>\n",
              "      <th>is_weekend</th>\n",
              "      <td>1888.0</td>\n",
              "      <td>0.199682</td>\n",
              "      <td>0.399867</td>\n",
              "      <td>0.0</td>\n",
              "      <td>0.000000</td>\n",
              "      <td>0.000000</td>\n",
              "      <td>0.000000</td>\n",
              "      <td>1.000000</td>\n",
              "    </tr>\n",
              "    <tr>\n",
              "      <th>category</th>\n",
              "      <td>1888.0</td>\n",
              "      <td>9.949682</td>\n",
              "      <td>5.300719</td>\n",
              "      <td>0.0</td>\n",
              "      <td>6.000000</td>\n",
              "      <td>10.000000</td>\n",
              "      <td>15.000000</td>\n",
              "      <td>15.000000</td>\n",
              "    </tr>\n",
              "    <tr>\n",
              "      <th>product</th>\n",
              "      <td>1888.0</td>\n",
              "      <td>17.525424</td>\n",
              "      <td>12.369526</td>\n",
              "      <td>0.0</td>\n",
              "      <td>9.000000</td>\n",
              "      <td>12.000000</td>\n",
              "      <td>27.250000</td>\n",
              "      <td>43.000000</td>\n",
              "    </tr>\n",
              "    <tr>\n",
              "      <th>no_of_CTA</th>\n",
              "      <td>1888.0</td>\n",
              "      <td>4.222458</td>\n",
              "      <td>4.628348</td>\n",
              "      <td>0.0</td>\n",
              "      <td>2.000000</td>\n",
              "      <td>3.000000</td>\n",
              "      <td>5.000000</td>\n",
              "      <td>49.000000</td>\n",
              "    </tr>\n",
              "    <tr>\n",
              "      <th>mean_CTA_len</th>\n",
              "      <td>1888.0</td>\n",
              "      <td>30.233051</td>\n",
              "      <td>11.848663</td>\n",
              "      <td>0.0</td>\n",
              "      <td>23.000000</td>\n",
              "      <td>29.000000</td>\n",
              "      <td>35.000000</td>\n",
              "      <td>162.000000</td>\n",
              "    </tr>\n",
              "    <tr>\n",
              "      <th>is_image</th>\n",
              "      <td>1888.0</td>\n",
              "      <td>0.909958</td>\n",
              "      <td>0.866467</td>\n",
              "      <td>0.0</td>\n",
              "      <td>0.000000</td>\n",
              "      <td>1.000000</td>\n",
              "      <td>2.000000</td>\n",
              "      <td>6.000000</td>\n",
              "    </tr>\n",
              "    <tr>\n",
              "      <th>is_personalised</th>\n",
              "      <td>1888.0</td>\n",
              "      <td>0.056674</td>\n",
              "      <td>0.231279</td>\n",
              "      <td>0.0</td>\n",
              "      <td>0.000000</td>\n",
              "      <td>0.000000</td>\n",
              "      <td>0.000000</td>\n",
              "      <td>1.000000</td>\n",
              "    </tr>\n",
              "    <tr>\n",
              "      <th>is_quote</th>\n",
              "      <td>1888.0</td>\n",
              "      <td>0.834216</td>\n",
              "      <td>1.033901</td>\n",
              "      <td>0.0</td>\n",
              "      <td>0.000000</td>\n",
              "      <td>1.000000</td>\n",
              "      <td>1.000000</td>\n",
              "      <td>6.000000</td>\n",
              "    </tr>\n",
              "    <tr>\n",
              "      <th>is_timer</th>\n",
              "      <td>1888.0</td>\n",
              "      <td>0.000000</td>\n",
              "      <td>0.000000</td>\n",
              "      <td>0.0</td>\n",
              "      <td>0.000000</td>\n",
              "      <td>0.000000</td>\n",
              "      <td>0.000000</td>\n",
              "      <td>0.000000</td>\n",
              "    </tr>\n",
              "    <tr>\n",
              "      <th>is_emoticons</th>\n",
              "      <td>1888.0</td>\n",
              "      <td>0.210805</td>\n",
              "      <td>0.613442</td>\n",
              "      <td>0.0</td>\n",
              "      <td>0.000000</td>\n",
              "      <td>0.000000</td>\n",
              "      <td>0.000000</td>\n",
              "      <td>6.000000</td>\n",
              "    </tr>\n",
              "    <tr>\n",
              "      <th>is_discount</th>\n",
              "      <td>1888.0</td>\n",
              "      <td>0.039725</td>\n",
              "      <td>0.195363</td>\n",
              "      <td>0.0</td>\n",
              "      <td>0.000000</td>\n",
              "      <td>0.000000</td>\n",
              "      <td>0.000000</td>\n",
              "      <td>1.000000</td>\n",
              "    </tr>\n",
              "    <tr>\n",
              "      <th>is_price</th>\n",
              "      <td>1888.0</td>\n",
              "      <td>40.197034</td>\n",
              "      <td>553.957470</td>\n",
              "      <td>0.0</td>\n",
              "      <td>0.000000</td>\n",
              "      <td>0.000000</td>\n",
              "      <td>0.000000</td>\n",
              "      <td>14999.000000</td>\n",
              "    </tr>\n",
              "    <tr>\n",
              "      <th>is_urgency</th>\n",
              "      <td>1888.0</td>\n",
              "      <td>0.112288</td>\n",
              "      <td>0.315804</td>\n",
              "      <td>0.0</td>\n",
              "      <td>0.000000</td>\n",
              "      <td>0.000000</td>\n",
              "      <td>0.000000</td>\n",
              "      <td>1.000000</td>\n",
              "    </tr>\n",
              "    <tr>\n",
              "      <th>target_audience</th>\n",
              "      <td>1888.0</td>\n",
              "      <td>11.634534</td>\n",
              "      <td>2.949121</td>\n",
              "      <td>0.0</td>\n",
              "      <td>12.000000</td>\n",
              "      <td>12.000000</td>\n",
              "      <td>12.000000</td>\n",
              "      <td>16.000000</td>\n",
              "    </tr>\n",
              "    <tr>\n",
              "      <th>click_rate</th>\n",
              "      <td>1888.0</td>\n",
              "      <td>0.041888</td>\n",
              "      <td>0.084223</td>\n",
              "      <td>0.0</td>\n",
              "      <td>0.005413</td>\n",
              "      <td>0.010686</td>\n",
              "      <td>0.035589</td>\n",
              "      <td>0.897959</td>\n",
              "    </tr>\n",
              "  </tbody>\n",
              "</table>\n",
              "</div>"
            ],
            "text/plain": [
              "                     count          mean          std   min          25%  \\\n",
              "campaign_id         1888.0    944.500000   545.162973   1.0   472.750000   \n",
              "sender              1888.0      4.395657     3.277927   0.0     3.000000   \n",
              "subject_len         1888.0     86.246292    30.143206   9.0    69.000000   \n",
              "body_len            1888.0  14185.780191  7327.615307  23.0  9554.500000   \n",
              "mean_paragraph_len  1888.0     35.239407    28.139498   4.0    21.000000   \n",
              "day_of_week         1888.0      2.828390     1.763193   0.0     1.000000   \n",
              "is_weekend          1888.0      0.199682     0.399867   0.0     0.000000   \n",
              "category            1888.0      9.949682     5.300719   0.0     6.000000   \n",
              "product             1888.0     17.525424    12.369526   0.0     9.000000   \n",
              "no_of_CTA           1888.0      4.222458     4.628348   0.0     2.000000   \n",
              "mean_CTA_len        1888.0     30.233051    11.848663   0.0    23.000000   \n",
              "is_image            1888.0      0.909958     0.866467   0.0     0.000000   \n",
              "is_personalised     1888.0      0.056674     0.231279   0.0     0.000000   \n",
              "is_quote            1888.0      0.834216     1.033901   0.0     0.000000   \n",
              "is_timer            1888.0      0.000000     0.000000   0.0     0.000000   \n",
              "is_emoticons        1888.0      0.210805     0.613442   0.0     0.000000   \n",
              "is_discount         1888.0      0.039725     0.195363   0.0     0.000000   \n",
              "is_price            1888.0     40.197034   553.957470   0.0     0.000000   \n",
              "is_urgency          1888.0      0.112288     0.315804   0.0     0.000000   \n",
              "target_audience     1888.0     11.634534     2.949121   0.0    12.000000   \n",
              "click_rate          1888.0      0.041888     0.084223   0.0     0.005413   \n",
              "\n",
              "                             50%           75%           max  \n",
              "campaign_id           944.500000   1416.250000   1888.000000  \n",
              "sender                  3.000000      3.000000     15.000000  \n",
              "subject_len            83.000000     98.000000    265.000000  \n",
              "body_len            12689.000000  17351.500000  44491.000000  \n",
              "mean_paragraph_len     29.000000     40.000000    286.000000  \n",
              "day_of_week             3.000000      4.000000      6.000000  \n",
              "is_weekend              0.000000      0.000000      1.000000  \n",
              "category               10.000000     15.000000     15.000000  \n",
              "product                12.000000     27.250000     43.000000  \n",
              "no_of_CTA               3.000000      5.000000     49.000000  \n",
              "mean_CTA_len           29.000000     35.000000    162.000000  \n",
              "is_image                1.000000      2.000000      6.000000  \n",
              "is_personalised         0.000000      0.000000      1.000000  \n",
              "is_quote                1.000000      1.000000      6.000000  \n",
              "is_timer                0.000000      0.000000      0.000000  \n",
              "is_emoticons            0.000000      0.000000      6.000000  \n",
              "is_discount             0.000000      0.000000      1.000000  \n",
              "is_price                0.000000      0.000000  14999.000000  \n",
              "is_urgency              0.000000      0.000000      1.000000  \n",
              "target_audience        12.000000     12.000000     16.000000  \n",
              "click_rate              0.010686      0.035589      0.897959  "
            ]
          },
          "execution_count": 9,
          "metadata": {},
          "output_type": "execute_result"
        }
      ],
      "source": [
        "df.describe().transpose()"
      ]
    },
    {
      "cell_type": "code",
      "execution_count": 10,
      "metadata": {
        "colab": {
          "base_uri": "https://localhost:8080/"
        },
        "id": "7eIXdGILlh6_",
        "outputId": "dbb09d2c-672f-4ff7-a077-7d2a0f3a7da6"
      },
      "outputs": [
        {
          "data": {
            "text/plain": [
              "campaign_id           1888\n",
              "sender                  12\n",
              "subject_len            170\n",
              "body_len              1568\n",
              "mean_paragraph_len     121\n",
              "day_of_week              7\n",
              "is_weekend               2\n",
              "times_of_day             3\n",
              "category                16\n",
              "product                 43\n",
              "no_of_CTA               40\n",
              "mean_CTA_len            79\n",
              "is_image                 6\n",
              "is_personalised          2\n",
              "is_quote                 7\n",
              "is_timer                 1\n",
              "is_emoticons             6\n",
              "is_discount              2\n",
              "is_price                 8\n",
              "is_urgency               2\n",
              "target_audience         17\n",
              "click_rate            1810\n",
              "dtype: int64"
            ]
          },
          "execution_count": 10,
          "metadata": {},
          "output_type": "execute_result"
        }
      ],
      "source": [
        "df.nunique()"
      ]
    },
    {
      "cell_type": "code",
      "execution_count": 11,
      "metadata": {},
      "outputs": [],
      "source": [
        "df.drop(['is_timer'], axis=1, inplace=True)"
      ]
    },
    {
      "cell_type": "code",
      "execution_count": 12,
      "metadata": {
        "colab": {
          "base_uri": "https://localhost:8080/"
        },
        "id": "eZBHCMbfeJ6b",
        "outputId": "d6a14235-62d6-467e-cb3a-aac990919163"
      },
      "outputs": [
        {
          "data": {
            "text/html": [
              "<div>\n",
              "<style scoped>\n",
              "    .dataframe tbody tr th:only-of-type {\n",
              "        vertical-align: middle;\n",
              "    }\n",
              "\n",
              "    .dataframe tbody tr th {\n",
              "        vertical-align: top;\n",
              "    }\n",
              "\n",
              "    .dataframe thead th {\n",
              "        text-align: right;\n",
              "    }\n",
              "</style>\n",
              "<table border=\"1\" class=\"dataframe\">\n",
              "  <thead>\n",
              "    <tr style=\"text-align: right;\">\n",
              "      <th></th>\n",
              "      <th>campaign_id</th>\n",
              "      <th>sender</th>\n",
              "      <th>subject_len</th>\n",
              "      <th>body_len</th>\n",
              "      <th>mean_paragraph_len</th>\n",
              "      <th>day_of_week</th>\n",
              "      <th>is_weekend</th>\n",
              "      <th>times_of_day</th>\n",
              "      <th>category</th>\n",
              "      <th>product</th>\n",
              "      <th>no_of_CTA</th>\n",
              "      <th>mean_CTA_len</th>\n",
              "      <th>is_image</th>\n",
              "      <th>is_personalised</th>\n",
              "      <th>is_quote</th>\n",
              "      <th>is_emoticons</th>\n",
              "      <th>is_discount</th>\n",
              "      <th>is_price</th>\n",
              "      <th>is_urgency</th>\n",
              "      <th>target_audience</th>\n",
              "      <th>click_rate</th>\n",
              "    </tr>\n",
              "  </thead>\n",
              "  <tbody>\n",
              "    <tr>\n",
              "      <th>0</th>\n",
              "      <td>1</td>\n",
              "      <td>3</td>\n",
              "      <td>76</td>\n",
              "      <td>10439</td>\n",
              "      <td>39</td>\n",
              "      <td>5</td>\n",
              "      <td>1</td>\n",
              "      <td>Noon</td>\n",
              "      <td>6</td>\n",
              "      <td>26</td>\n",
              "      <td>3</td>\n",
              "      <td>29</td>\n",
              "      <td>0</td>\n",
              "      <td>0</td>\n",
              "      <td>0</td>\n",
              "      <td>0</td>\n",
              "      <td>0</td>\n",
              "      <td>0</td>\n",
              "      <td>0</td>\n",
              "      <td>14</td>\n",
              "      <td>0.103079</td>\n",
              "    </tr>\n",
              "    <tr>\n",
              "      <th>1</th>\n",
              "      <td>2</td>\n",
              "      <td>3</td>\n",
              "      <td>54</td>\n",
              "      <td>2570</td>\n",
              "      <td>256</td>\n",
              "      <td>5</td>\n",
              "      <td>1</td>\n",
              "      <td>Morning</td>\n",
              "      <td>2</td>\n",
              "      <td>11</td>\n",
              "      <td>0</td>\n",
              "      <td>22</td>\n",
              "      <td>0</td>\n",
              "      <td>0</td>\n",
              "      <td>0</td>\n",
              "      <td>0</td>\n",
              "      <td>0</td>\n",
              "      <td>0</td>\n",
              "      <td>0</td>\n",
              "      <td>10</td>\n",
              "      <td>0.700000</td>\n",
              "    </tr>\n",
              "    <tr>\n",
              "      <th>2</th>\n",
              "      <td>3</td>\n",
              "      <td>3</td>\n",
              "      <td>59</td>\n",
              "      <td>12801</td>\n",
              "      <td>16</td>\n",
              "      <td>5</td>\n",
              "      <td>1</td>\n",
              "      <td>Noon</td>\n",
              "      <td>2</td>\n",
              "      <td>11</td>\n",
              "      <td>3</td>\n",
              "      <td>23</td>\n",
              "      <td>1</td>\n",
              "      <td>0</td>\n",
              "      <td>1</td>\n",
              "      <td>0</td>\n",
              "      <td>0</td>\n",
              "      <td>0</td>\n",
              "      <td>0</td>\n",
              "      <td>16</td>\n",
              "      <td>0.002769</td>\n",
              "    </tr>\n",
              "    <tr>\n",
              "      <th>3</th>\n",
              "      <td>4</td>\n",
              "      <td>3</td>\n",
              "      <td>74</td>\n",
              "      <td>11037</td>\n",
              "      <td>30</td>\n",
              "      <td>4</td>\n",
              "      <td>0</td>\n",
              "      <td>Evening</td>\n",
              "      <td>15</td>\n",
              "      <td>9</td>\n",
              "      <td>4</td>\n",
              "      <td>24</td>\n",
              "      <td>0</td>\n",
              "      <td>0</td>\n",
              "      <td>0</td>\n",
              "      <td>0</td>\n",
              "      <td>0</td>\n",
              "      <td>0</td>\n",
              "      <td>0</td>\n",
              "      <td>10</td>\n",
              "      <td>0.010868</td>\n",
              "    </tr>\n",
              "    <tr>\n",
              "      <th>4</th>\n",
              "      <td>5</td>\n",
              "      <td>3</td>\n",
              "      <td>80</td>\n",
              "      <td>10011</td>\n",
              "      <td>27</td>\n",
              "      <td>5</td>\n",
              "      <td>1</td>\n",
              "      <td>Noon</td>\n",
              "      <td>6</td>\n",
              "      <td>26</td>\n",
              "      <td>3</td>\n",
              "      <td>31</td>\n",
              "      <td>0</td>\n",
              "      <td>0</td>\n",
              "      <td>1</td>\n",
              "      <td>0</td>\n",
              "      <td>0</td>\n",
              "      <td>0</td>\n",
              "      <td>0</td>\n",
              "      <td>14</td>\n",
              "      <td>0.142826</td>\n",
              "    </tr>\n",
              "  </tbody>\n",
              "</table>\n",
              "</div>"
            ],
            "text/plain": [
              "   campaign_id  sender  subject_len  body_len  mean_paragraph_len  \\\n",
              "0            1       3           76     10439                  39   \n",
              "1            2       3           54      2570                 256   \n",
              "2            3       3           59     12801                  16   \n",
              "3            4       3           74     11037                  30   \n",
              "4            5       3           80     10011                  27   \n",
              "\n",
              "   day_of_week  is_weekend times_of_day  category  product  no_of_CTA  \\\n",
              "0            5           1         Noon         6       26          3   \n",
              "1            5           1      Morning         2       11          0   \n",
              "2            5           1         Noon         2       11          3   \n",
              "3            4           0      Evening        15        9          4   \n",
              "4            5           1         Noon         6       26          3   \n",
              "\n",
              "   mean_CTA_len  is_image  is_personalised  is_quote  is_emoticons  \\\n",
              "0            29         0                0         0             0   \n",
              "1            22         0                0         0             0   \n",
              "2            23         1                0         1             0   \n",
              "3            24         0                0         0             0   \n",
              "4            31         0                0         1             0   \n",
              "\n",
              "   is_discount  is_price  is_urgency  target_audience  click_rate  \n",
              "0            0         0           0               14    0.103079  \n",
              "1            0         0           0               10    0.700000  \n",
              "2            0         0           0               16    0.002769  \n",
              "3            0         0           0               10    0.010868  \n",
              "4            0         0           0               14    0.142826  "
            ]
          },
          "execution_count": 12,
          "metadata": {},
          "output_type": "execute_result"
        }
      ],
      "source": [
        "df.head()"
      ]
    },
    {
      "cell_type": "code",
      "execution_count": 23,
      "metadata": {
        "id": "innKhN97VQ4T"
      },
      "outputs": [],
      "source": [
        "categorical=['times_of_day']"
      ]
    },
    {
      "cell_type": "code",
      "execution_count": null,
      "metadata": {
        "colab": {
          "base_uri": "https://localhost:8080/",
          "height": 297
        },
        "id": "adOD4oVNL8tk",
        "outputId": "42dca92b-165b-435f-e9ad-93e664835a2a"
      },
      "outputs": [
        {
          "data": {
            "text/plain": [
              "<matplotlib.axes._subplots.AxesSubplot at 0x7fb191c6a610>"
            ]
          },
          "execution_count": 10,
          "metadata": {},
          "output_type": "execute_result"
        },
        {
          "data": {
            "image/png": "[encoded data removed]",
            "text/plain": [
              "<Figure size 432x288 with 1 Axes>"
            ]
          },
          "metadata": {},
          "output_type": "display_data"
        }
      ],
      "source": [
        "sns.histplot(df['click_rate'])"
      ]
    },
    {
      "cell_type": "code",
      "execution_count": 15,
      "metadata": {
        "colab": {
          "base_uri": "https://localhost:8080/",
          "height": 382
        },
        "id": "iJOqm3LBMBeH",
        "outputId": "ff0e81cd-1a4e-4ba5-9a90-0f8f4499c77d"
      },
      "outputs": [
        {
          "data": {
            "text/plain": [
              "<AxesSubplot:>"
            ]
          },
          "execution_count": 15,
          "metadata": {},
          "output_type": "execute_result"
        },
        {
          "data": {
            "image/png": "[encoded data removed]",
            "text/plain": [
              "<Figure size 432x288 with 2 Axes>"
            ]
          },
          "metadata": {},
          "output_type": "display_data"
        }
      ],
      "source": [
        "sns.heatmap(df.corr(),cmap='RdBu')"
      ]
    },
    {
      "cell_type": "code",
      "execution_count": 13,
      "metadata": {},
      "outputs": [],
      "source": [
        "df['paragraphs'] = df['body_len'] / df['mean_paragraph_len']\n",
        "df['total_CTA'] = df['no_of_CTA'] * df['mean_CTA_len']"
      ]
    },
    {
      "cell_type": "code",
      "execution_count": 41,
      "metadata": {},
      "outputs": [
        {
          "data": {
            "text/plain": [
              "Index(['campaign_id', 'sender', 'subject_len', 'body_len',\n",
              "       'mean_paragraph_len', 'day_of_week', 'is_weekend', 'times_of_day',\n",
              "       'category', 'product', 'no_of_CTA', 'mean_CTA_len', 'is_image',\n",
              "       'is_personalised', 'is_quote', 'is_emoticons', 'is_discount',\n",
              "       'is_price', 'is_urgency', 'target_audience', 'click_rate', 'paragraphs',\n",
              "       'total_CTA'],\n",
              "      dtype='object')"
            ]
          },
          "execution_count": 41,
          "metadata": {},
          "output_type": "execute_result"
        }
      ],
      "source": [
        "df.columns"
      ]
    },
    {
      "cell_type": "code",
      "execution_count": 53,
      "metadata": {},
      "outputs": [
        {
          "data": {
            "text/plain": [
              "<AxesSubplot:xlabel='sender', ylabel='click_rate'>"
            ]
          },
          "execution_count": 53,
          "metadata": {},
          "output_type": "execute_result"
        },
        {
          "data": {
            "image/png": "[encoded data removed]",
            "text/plain": [
              "<Figure size 432x288 with 1 Axes>"
            ]
          },
          "metadata": {},
          "output_type": "display_data"
        }
      ],
      "source": [
        "#box plot for click rate and is_urgency\n",
        "sns.boxplot(x='sender', y='click_rate', data=df)\n"
      ]
    },
    {
      "cell_type": "code",
      "execution_count": 43,
      "metadata": {},
      "outputs": [
        {
          "data": {
            "text/plain": [
              "<seaborn.axisgrid.JointGrid at 0x19b1ae439d0>"
            ]
          },
          "execution_count": 43,
          "metadata": {},
          "output_type": "execute_result"
        },
        {
          "data": {
            "image/png": "[encoded data removed]",
            "text/plain": [
              "<Figure size 432x432 with 3 Axes>"
            ]
          },
          "metadata": {},
          "output_type": "display_data"
        }
      ],
      "source": [
        "#plot kde of body_leng and click_rate\n",
        "sns.jointplot(x='total_CTA', y='click_rate', data=df)\n",
        "# sns.histplot(df['body_len'])\n"
      ]
    },
    {
      "cell_type": "code",
      "execution_count": 31,
      "metadata": {
        "id": "Mj5qpb-MMZpP"
      },
      "outputs": [],
      "source": [
        "import numpy as np\n",
        "from sklearn.preprocessing import LabelEncoder"
      ]
    },
    {
      "cell_type": "code",
      "execution_count": 32,
      "metadata": {
        "id": "LvTGHKD0U5NI"
      },
      "outputs": [],
      "source": [
        "labelencoder = LabelEncoder()"
      ]
    },
    {
      "cell_type": "code",
      "execution_count": 33,
      "metadata": {
        "id": "T6s3NERPU8f4"
      },
      "outputs": [],
      "source": [
        "for i in categorical:\n",
        "    df[i]=labelencoder.fit_transform(df[i])"
      ]
    },
    {
      "cell_type": "code",
      "execution_count": 34,
      "metadata": {
        "colab": {
          "base_uri": "https://localhost:8080/",
          "height": 270
        },
        "id": "FHVOdu_rVB-1",
        "outputId": "a17f498f-2cb5-4456-c6aa-02ccc4c7633a"
      },
      "outputs": [
        {
          "data": {
            "text/html": [
              "<div>\n",
              "<style scoped>\n",
              "    .dataframe tbody tr th:only-of-type {\n",
              "        vertical-align: middle;\n",
              "    }\n",
              "\n",
              "    .dataframe tbody tr th {\n",
              "        vertical-align: top;\n",
              "    }\n",
              "\n",
              "    .dataframe thead th {\n",
              "        text-align: right;\n",
              "    }\n",
              "</style>\n",
              "<table border=\"1\" class=\"dataframe\">\n",
              "  <thead>\n",
              "    <tr style=\"text-align: right;\">\n",
              "      <th></th>\n",
              "      <th>campaign_id</th>\n",
              "      <th>sender</th>\n",
              "      <th>subject_len</th>\n",
              "      <th>body_len</th>\n",
              "      <th>mean_paragraph_len</th>\n",
              "      <th>day_of_week</th>\n",
              "      <th>is_weekend</th>\n",
              "      <th>times_of_day</th>\n",
              "      <th>category</th>\n",
              "      <th>product</th>\n",
              "      <th>no_of_CTA</th>\n",
              "      <th>mean_CTA_len</th>\n",
              "      <th>is_image</th>\n",
              "      <th>is_personalised</th>\n",
              "      <th>is_quote</th>\n",
              "      <th>is_emoticons</th>\n",
              "      <th>is_discount</th>\n",
              "      <th>is_price</th>\n",
              "      <th>is_urgency</th>\n",
              "      <th>target_audience</th>\n",
              "      <th>click_rate</th>\n",
              "      <th>paragraphs</th>\n",
              "      <th>total_CTA</th>\n",
              "    </tr>\n",
              "  </thead>\n",
              "  <tbody>\n",
              "    <tr>\n",
              "      <th>0</th>\n",
              "      <td>1</td>\n",
              "      <td>3</td>\n",
              "      <td>76</td>\n",
              "      <td>10439</td>\n",
              "      <td>39</td>\n",
              "      <td>5</td>\n",
              "      <td>1</td>\n",
              "      <td>2</td>\n",
              "      <td>6</td>\n",
              "      <td>26</td>\n",
              "      <td>3</td>\n",
              "      <td>29</td>\n",
              "      <td>0</td>\n",
              "      <td>0</td>\n",
              "      <td>0</td>\n",
              "      <td>0</td>\n",
              "      <td>0</td>\n",
              "      <td>0</td>\n",
              "      <td>0</td>\n",
              "      <td>14</td>\n",
              "      <td>0.103079</td>\n",
              "      <td>267.666667</td>\n",
              "      <td>87</td>\n",
              "    </tr>\n",
              "    <tr>\n",
              "      <th>1</th>\n",
              "      <td>2</td>\n",
              "      <td>3</td>\n",
              "      <td>54</td>\n",
              "      <td>2570</td>\n",
              "      <td>256</td>\n",
              "      <td>5</td>\n",
              "      <td>1</td>\n",
              "      <td>1</td>\n",
              "      <td>2</td>\n",
              "      <td>11</td>\n",
              "      <td>0</td>\n",
              "      <td>22</td>\n",
              "      <td>0</td>\n",
              "      <td>0</td>\n",
              "      <td>0</td>\n",
              "      <td>0</td>\n",
              "      <td>0</td>\n",
              "      <td>0</td>\n",
              "      <td>0</td>\n",
              "      <td>10</td>\n",
              "      <td>0.700000</td>\n",
              "      <td>10.039062</td>\n",
              "      <td>0</td>\n",
              "    </tr>\n",
              "    <tr>\n",
              "      <th>2</th>\n",
              "      <td>3</td>\n",
              "      <td>3</td>\n",
              "      <td>59</td>\n",
              "      <td>12801</td>\n",
              "      <td>16</td>\n",
              "      <td>5</td>\n",
              "      <td>1</td>\n",
              "      <td>2</td>\n",
              "      <td>2</td>\n",
              "      <td>11</td>\n",
              "      <td>3</td>\n",
              "      <td>23</td>\n",
              "      <td>1</td>\n",
              "      <td>0</td>\n",
              "      <td>1</td>\n",
              "      <td>0</td>\n",
              "      <td>0</td>\n",
              "      <td>0</td>\n",
              "      <td>0</td>\n",
              "      <td>16</td>\n",
              "      <td>0.002769</td>\n",
              "      <td>800.062500</td>\n",
              "      <td>69</td>\n",
              "    </tr>\n",
              "    <tr>\n",
              "      <th>3</th>\n",
              "      <td>4</td>\n",
              "      <td>3</td>\n",
              "      <td>74</td>\n",
              "      <td>11037</td>\n",
              "      <td>30</td>\n",
              "      <td>4</td>\n",
              "      <td>0</td>\n",
              "      <td>0</td>\n",
              "      <td>15</td>\n",
              "      <td>9</td>\n",
              "      <td>4</td>\n",
              "      <td>24</td>\n",
              "      <td>0</td>\n",
              "      <td>0</td>\n",
              "      <td>0</td>\n",
              "      <td>0</td>\n",
              "      <td>0</td>\n",
              "      <td>0</td>\n",
              "      <td>0</td>\n",
              "      <td>10</td>\n",
              "      <td>0.010868</td>\n",
              "      <td>367.900000</td>\n",
              "      <td>96</td>\n",
              "    </tr>\n",
              "    <tr>\n",
              "      <th>4</th>\n",
              "      <td>5</td>\n",
              "      <td>3</td>\n",
              "      <td>80</td>\n",
              "      <td>10011</td>\n",
              "      <td>27</td>\n",
              "      <td>5</td>\n",
              "      <td>1</td>\n",
              "      <td>2</td>\n",
              "      <td>6</td>\n",
              "      <td>26</td>\n",
              "      <td>3</td>\n",
              "      <td>31</td>\n",
              "      <td>0</td>\n",
              "      <td>0</td>\n",
              "      <td>1</td>\n",
              "      <td>0</td>\n",
              "      <td>0</td>\n",
              "      <td>0</td>\n",
              "      <td>0</td>\n",
              "      <td>14</td>\n",
              "      <td>0.142826</td>\n",
              "      <td>370.777778</td>\n",
              "      <td>93</td>\n",
              "    </tr>\n",
              "  </tbody>\n",
              "</table>\n",
              "</div>"
            ],
            "text/plain": [
              "   campaign_id  sender  subject_len  body_len  mean_paragraph_len  \\\n",
              "0            1       3           76     10439                  39   \n",
              "1            2       3           54      2570                 256   \n",
              "2            3       3           59     12801                  16   \n",
              "3            4       3           74     11037                  30   \n",
              "4            5       3           80     10011                  27   \n",
              "\n",
              "   day_of_week  is_weekend  times_of_day  category  product  no_of_CTA  \\\n",
              "0            5           1             2         6       26          3   \n",
              "1            5           1             1         2       11          0   \n",
              "2            5           1             2         2       11          3   \n",
              "3            4           0             0        15        9          4   \n",
              "4            5           1             2         6       26          3   \n",
              "\n",
              "   mean_CTA_len  is_image  is_personalised  is_quote  is_emoticons  \\\n",
              "0            29         0                0         0             0   \n",
              "1            22         0                0         0             0   \n",
              "2            23         1                0         1             0   \n",
              "3            24         0                0         0             0   \n",
              "4            31         0                0         1             0   \n",
              "\n",
              "   is_discount  is_price  is_urgency  target_audience  click_rate  paragraphs  \\\n",
              "0            0         0           0               14    0.103079  267.666667   \n",
              "1            0         0           0               10    0.700000   10.039062   \n",
              "2            0         0           0               16    0.002769  800.062500   \n",
              "3            0         0           0               10    0.010868  367.900000   \n",
              "4            0         0           0               14    0.142826  370.777778   \n",
              "\n",
              "   total_CTA  \n",
              "0         87  \n",
              "1          0  \n",
              "2         69  \n",
              "3         96  \n",
              "4         93  "
            ]
          },
          "execution_count": 34,
          "metadata": {},
          "output_type": "execute_result"
        }
      ],
      "source": [
        "df.head()"
      ]
    },
    {
      "cell_type": "code",
      "execution_count": 35,
      "metadata": {
        "id": "8IBmbgE-V69i"
      },
      "outputs": [],
      "source": [
        "X=df.drop(columns=['click_rate','campaign_id'])\n",
        "y=df[['click_rate']]"
      ]
    },
    {
      "cell_type": "code",
      "execution_count": 36,
      "metadata": {
        "id": "zxRMwbqgWooF"
      },
      "outputs": [],
      "source": [
        "from sklearn.model_selection import train_test_split\n",
        "X_train, X_test, y_train, y_test = train_test_split(X, y, test_size=0.33, random_state=42)"
      ]
    },
    {
      "cell_type": "code",
      "execution_count": 37,
      "metadata": {
        "colab": {
          "base_uri": "https://localhost:8080/"
        },
        "id": "Ay_zz8DP3ffd",
        "outputId": "5a4ccf78-a119-4866-c4c0-0b414f199980"
      },
      "outputs": [
        {
          "name": "stderr",
          "output_type": "stream",
          "text": [
            "C:\\Users\\shrey\\AppData\\Local\\Temp/ipykernel_10356/1401242226.py:3: DataConversionWarning: A column-vector y was passed when a 1d array was expected. Please change the shape of y to (n_samples,), for example using ravel().\n",
            "  regressor.fit(X_train, y_train)\n"
          ]
        },
        {
          "data": {
            "text/plain": [
              "RandomForestRegressor(n_estimators=250)"
            ]
          },
          "execution_count": 37,
          "metadata": {},
          "output_type": "execute_result"
        }
      ],
      "source": [
        "from sklearn.ensemble import RandomForestRegressor\n",
        "regressor = RandomForestRegressor(n_estimators = 250)\n",
        "regressor.fit(X_train, y_train) "
      ]
    },
    {
      "cell_type": "code",
      "execution_count": 38,
      "metadata": {
        "colab": {
          "base_uri": "https://localhost:8080/"
        },
        "id": "5zum86kJ3fcF",
        "outputId": "42745a34-21a0-43c5-ab59-dd4b60755048"
      },
      "outputs": [
        {
          "data": {
            "text/plain": [
              "0.38979149324840034"
            ]
          },
          "execution_count": 38,
          "metadata": {},
          "output_type": "execute_result"
        }
      ],
      "source": [
        "preds=regressor.predict(X_test)\n",
        "from sklearn.metrics import r2_score\n",
        "r2 = (r2_score(y_test, preds))\n",
        "r2"
      ]
    },
    {
      "cell_type": "code",
      "execution_count": 39,
      "metadata": {
        "id": "gRDDzfeayt11"
      },
      "outputs": [],
      "source": [
        "importances=regressor.feature_importances_\n",
        "feature_names=X.columns\n",
        "std = np.std([tree.feature_importances_ for tree in regressor.estimators_], axis=0)\n"
      ]
    },
    {
      "cell_type": "code",
      "execution_count": 40,
      "metadata": {
        "colab": {
          "base_uri": "https://localhost:8080/",
          "height": 297
        },
        "id": "Z82YR6EEy41b",
        "outputId": "ba39306f-495c-4c51-97b3-d19858eeb6d7"
      },
      "outputs": [
        {
          "data": {
            "image/png": "[encoded data removed]",
            "text/plain": [
              "<Figure size 432x288 with 1 Axes>"
            ]
          },
          "metadata": {},
          "output_type": "display_data"
        }
      ],
      "source": [
        "import matplotlib.pyplot as plt\n",
        "forest_importances = pd.Series(importances, index=feature_names)\n",
        "\n",
        "fig, ax = plt.subplots()\n",
        "forest_importances.plot.bar(yerr=std, ax=ax)\n",
        "ax.set_title(\"Feature importances using MDI\")\n",
        "ax.set_ylabel(\"Mean decrease in impurity\")\n",
        "fig.tight_layout()\n"
      ]
    },
    {
      "cell_type": "code",
      "execution_count": 52,
      "metadata": {
        "colab": {
          "base_uri": "https://localhost:8080/",
          "height": 314
        },
        "id": "_Fw6jAtH0Js3",
        "outputId": "f9fc6991-e489-43ce-ff3c-c83e69141491"
      },
      "outputs": [
        {
          "name": "stdout",
          "output_type": "stream",
          "text": [
            "Elapsed time to compute the importances: 15.437 seconds\n"
          ]
        },
        {
          "data": {
            "image/png": "[encoded data removed]",
            "text/plain": [
              "<Figure size 432x288 with 1 Axes>"
            ]
          },
          "metadata": {
            "needs_background": "light"
          },
          "output_type": "display_data"
        }
      ],
      "source": [
        "from sklearn.inspection import permutation_importance\n",
        "import time\n",
        "start_time = time.time()\n",
        "result = permutation_importance(\n",
        "    regressor, X_test, y_test, n_repeats=10, random_state=42, n_jobs=2\n",
        ")\n",
        "elapsed_time = time.time() - start_time\n",
        "print(f\"Elapsed time to compute the importances: {elapsed_time:.3f} seconds\")\n",
        "\n",
        "forest_importances = pd.Series(result.importances_mean, index=feature_names)\n",
        "fig, ax = plt.subplots()\n",
        "forest_importances.plot.bar(yerr=result.importances_std, ax=ax)\n",
        "ax.set_title(\"Feature importances using permutation on full model\")\n",
        "ax.set_ylabel(\"Mean accuracy decrease\")\n",
        "fig.tight_layout()\n",
        "plt.show()"
      ]
    },
    {
      "cell_type": "code",
      "execution_count": null,
      "metadata": {
        "colab": {
          "base_uri": "https://localhost:8080/"
        },
        "id": "g4a50-pDfh5k",
        "outputId": "bb47b60f-96bb-48eb-fe0d-8346bf415ee5"
      },
      "outputs": [
        {
          "data": {
            "text/plain": [
              "GridSearchCV(cv=None, error_score=nan,\n",
              "             estimator=RandomForestRegressor(bootstrap=True, ccp_alpha=0.0,\n",
              "                                             criterion='mse', max_depth=None,\n",
              "                                             max_features='auto',\n",
              "                                             max_leaf_nodes=None,\n",
              "                                             max_samples=None,\n",
              "                                             min_impurity_decrease=0.0,\n",
              "                                             min_impurity_split=None,\n",
              "                                             min_samples_leaf=1,\n",
              "                                             min_samples_split=2,\n",
              "                                             min_weight_fraction_leaf=0.0,\n",
              "                                             n_estimators=100, n_jobs=None,\n",
              "                                             oob_score=False, random_state=None,\n",
              "                                             verbose=0, warm_start=False),\n",
              "             iid='deprecated', n_jobs=None,\n",
              "             param_grid={'n_estimators': [50, 100, 150, 200, 250, 300]},\n",
              "             pre_dispatch='2*n_jobs', refit=True, return_train_score=False,\n",
              "             scoring=None, verbose=0)"
            ]
          },
          "execution_count": 67,
          "metadata": {},
          "output_type": "execute_result"
        }
      ],
      "source": [
        "from sklearn.model_selection import GridSearchCV\n",
        "clf = GridSearchCV(RandomForestRegressor(), {'n_estimators':[50,100,150,200,250,300]})\n",
        "clf.fit(X, y)"
      ]
    },
    {
      "cell_type": "code",
      "execution_count": null,
      "metadata": {
        "colab": {
          "base_uri": "https://localhost:8080/"
        },
        "id": "ajjuN3mmuBLN",
        "outputId": "cce6156f-9bed-437f-e9ca-56a57fccccf4"
      },
      "outputs": [
        {
          "data": {
            "text/plain": [
              "RandomForestRegressor(bootstrap=True, ccp_alpha=0.0, criterion='mse',\n",
              "                      max_depth=None, max_features='auto', max_leaf_nodes=None,\n",
              "                      max_samples=None, min_impurity_decrease=0.0,\n",
              "                      min_impurity_split=None, min_samples_leaf=1,\n",
              "                      min_samples_split=2, min_weight_fraction_leaf=0.0,\n",
              "                      n_estimators=250, n_jobs=None, oob_score=False,\n",
              "                      random_state=None, verbose=0, warm_start=False)"
            ]
          },
          "execution_count": 68,
          "metadata": {},
          "output_type": "execute_result"
        }
      ],
      "source": [
        "clf.best_estimator_"
      ]
    },
    {
      "cell_type": "code",
      "execution_count": 32,
      "metadata": {
        "colab": {
          "base_uri": "https://localhost:8080/"
        },
        "id": "1SG5HFmr3fYY",
        "outputId": "2a8b160e-6b31-4424-b80c-81eee6afe294"
      },
      "outputs": [
        {
          "data": {
            "text/plain": [
              "0.485771923545234"
            ]
          },
          "execution_count": 32,
          "metadata": {},
          "output_type": "execute_result"
        }
      ],
      "source": [
        "from sklearn.metrics import r2_score\n",
        "rms = (r2_score(y_test, preds))\n",
        "rms"
      ]
    },
    {
      "cell_type": "code",
      "execution_count": 2,
      "metadata": {
        "id": "Rfkzq0KM507z"
      },
      "outputs": [
        {
          "name": "stdout",
          "output_type": "stream",
          "text": [
            "^C\n"
          ]
        }
      ],
      "source": [
        "!pip install pycaret\n",
        "# !pip install markupsafe==2.0.1\n"
      ]
    },
    {
      "cell_type": "code",
      "execution_count": 4,
      "metadata": {},
      "outputs": [
        {
          "name": "stdout",
          "output_type": "stream",
          "text": [
            "2015-01-01\n",
            "2015-03-31\n"
          ]
        }
      ],
      "source": [
        "a = {'Q1': ['01-01', '03-31']}\n",
        "b = '2015-Q1'\n",
        "for i in a[b[-2:]]:\n",
        "    print(b[:-2]+i)\n"
      ]
    },
    {
      "cell_type": "code",
      "execution_count": 2,
      "metadata": {},
      "outputs": [
        {
          "name": "stdout",
          "output_type": "stream",
          "text": [
            "3.10.4\n"
          ]
        },
        {
          "data": {
            "text/plain": [
              "sys.version_info(major=3, minor=10, micro=4, releaselevel='final', serial=0)"
            ]
          },
          "execution_count": 2,
          "metadata": {},
          "output_type": "execute_result"
        }
      ],
      "source": [
        "import platform\n",
        "print(platform.python_version())\n",
        "import sys\n",
        "sys.version_info\n"
      ]
    },
    {
      "cell_type": "code",
      "execution_count": null,
      "metadata": {},
      "outputs": [],
      "source": [
        "\n",
        "insert into data_profile_rule_info Values(3, 'CUST_DIM', 'Oracle', 'PEDW', 'EDW', 'Y', 'CREATE_DT', 'N', sysdate, sysdate)\n",
        "#write a varible to pickle file\n",
        "import pickle\n",
        "with open('model.pkl', 'wb') as f:\n",
        "    pickle.dump(regressor, f)"
      ]
    },
    {
      "cell_type": "code",
      "execution_count": 3,
      "metadata": {
        "colab": {
          "base_uri": "https://localhost:8080/"
        },
        "id": "tQ2n9n5dHoRC",
        "outputId": "9d02b559-82f7-42ed-893e-03953957809e"
      },
      "outputs": [],
      "source": [
        "from pycaret.regression import *"
      ]
    },
    {
      "cell_type": "code",
      "execution_count": null,
      "metadata": {
        "id": "JlJKvv0a54Qx"
      },
      "outputs": [],
      "source": [
        "import pandas as pd\n",
        "df=pd.read_csv('https://github.com/shreyas36/data/raw/main/jt3%20click%20through%20rate%20prediction/train.csv')"
      ]
    },
    {
      "cell_type": "code",
      "execution_count": null,
      "metadata": {
        "colab": {
          "base_uri": "https://localhost:8080/",
          "height": 270
        },
        "id": "0CQoPBxR7VBg",
        "outputId": "b8211a55-5ff7-445d-ca98-babc95fd3e5f"
      },
      "outputs": [
        {
          "data": {
            "text/html": [
              "\n",
              "  <div id=\"df-d6229ea9-438d-4c60-a26f-a8fc328f9938\">\n",
              "    <div class=\"colab-df-container\">\n",
              "      <div>\n",
              "<style scoped>\n",
              "    .dataframe tbody tr th:only-of-type {\n",
              "        vertical-align: middle;\n",
              "    }\n",
              "\n",
              "    .dataframe tbody tr th {\n",
              "        vertical-align: top;\n",
              "    }\n",
              "\n",
              "    .dataframe thead th {\n",
              "        text-align: right;\n",
              "    }\n",
              "</style>\n",
              "<table border=\"1\" class=\"dataframe\">\n",
              "  <thead>\n",
              "    <tr style=\"text-align: right;\">\n",
              "      <th></th>\n",
              "      <th>campaign_id</th>\n",
              "      <th>sender</th>\n",
              "      <th>subject_len</th>\n",
              "      <th>body_len</th>\n",
              "      <th>mean_paragraph_len</th>\n",
              "      <th>day_of_week</th>\n",
              "      <th>is_weekend</th>\n",
              "      <th>times_of_day</th>\n",
              "      <th>category</th>\n",
              "      <th>product</th>\n",
              "      <th>no_of_CTA</th>\n",
              "      <th>mean_CTA_len</th>\n",
              "      <th>is_image</th>\n",
              "      <th>is_personalised</th>\n",
              "      <th>is_quote</th>\n",
              "      <th>is_timer</th>\n",
              "      <th>is_emoticons</th>\n",
              "      <th>is_discount</th>\n",
              "      <th>is_price</th>\n",
              "      <th>is_urgency</th>\n",
              "      <th>target_audience</th>\n",
              "      <th>click_rate</th>\n",
              "    </tr>\n",
              "  </thead>\n",
              "  <tbody>\n",
              "    <tr>\n",
              "      <th>0</th>\n",
              "      <td>1</td>\n",
              "      <td>3</td>\n",
              "      <td>76</td>\n",
              "      <td>10439</td>\n",
              "      <td>39</td>\n",
              "      <td>5</td>\n",
              "      <td>1</td>\n",
              "      <td>Noon</td>\n",
              "      <td>6</td>\n",
              "      <td>26</td>\n",
              "      <td>3</td>\n",
              "      <td>29</td>\n",
              "      <td>0</td>\n",
              "      <td>0</td>\n",
              "      <td>0</td>\n",
              "      <td>0</td>\n",
              "      <td>0</td>\n",
              "      <td>0</td>\n",
              "      <td>0</td>\n",
              "      <td>0</td>\n",
              "      <td>14</td>\n",
              "      <td>0.103079</td>\n",
              "    </tr>\n",
              "    <tr>\n",
              "      <th>1</th>\n",
              "      <td>2</td>\n",
              "      <td>3</td>\n",
              "      <td>54</td>\n",
              "      <td>2570</td>\n",
              "      <td>256</td>\n",
              "      <td>5</td>\n",
              "      <td>1</td>\n",
              "      <td>Morning</td>\n",
              "      <td>2</td>\n",
              "      <td>11</td>\n",
              "      <td>0</td>\n",
              "      <td>22</td>\n",
              "      <td>0</td>\n",
              "      <td>0</td>\n",
              "      <td>0</td>\n",
              "      <td>0</td>\n",
              "      <td>0</td>\n",
              "      <td>0</td>\n",
              "      <td>0</td>\n",
              "      <td>0</td>\n",
              "      <td>10</td>\n",
              "      <td>0.700000</td>\n",
              "    </tr>\n",
              "    <tr>\n",
              "      <th>2</th>\n",
              "      <td>3</td>\n",
              "      <td>3</td>\n",
              "      <td>59</td>\n",
              "      <td>12801</td>\n",
              "      <td>16</td>\n",
              "      <td>5</td>\n",
              "      <td>1</td>\n",
              "      <td>Noon</td>\n",
              "      <td>2</td>\n",
              "      <td>11</td>\n",
              "      <td>3</td>\n",
              "      <td>23</td>\n",
              "      <td>1</td>\n",
              "      <td>0</td>\n",
              "      <td>1</td>\n",
              "      <td>0</td>\n",
              "      <td>0</td>\n",
              "      <td>0</td>\n",
              "      <td>0</td>\n",
              "      <td>0</td>\n",
              "      <td>16</td>\n",
              "      <td>0.002769</td>\n",
              "    </tr>\n",
              "    <tr>\n",
              "      <th>3</th>\n",
              "      <td>4</td>\n",
              "      <td>3</td>\n",
              "      <td>74</td>\n",
              "      <td>11037</td>\n",
              "      <td>30</td>\n",
              "      <td>4</td>\n",
              "      <td>0</td>\n",
              "      <td>Evening</td>\n",
              "      <td>15</td>\n",
              "      <td>9</td>\n",
              "      <td>4</td>\n",
              "      <td>24</td>\n",
              "      <td>0</td>\n",
              "      <td>0</td>\n",
              "      <td>0</td>\n",
              "      <td>0</td>\n",
              "      <td>0</td>\n",
              "      <td>0</td>\n",
              "      <td>0</td>\n",
              "      <td>0</td>\n",
              "      <td>10</td>\n",
              "      <td>0.010868</td>\n",
              "    </tr>\n",
              "    <tr>\n",
              "      <th>4</th>\n",
              "      <td>5</td>\n",
              "      <td>3</td>\n",
              "      <td>80</td>\n",
              "      <td>10011</td>\n",
              "      <td>27</td>\n",
              "      <td>5</td>\n",
              "      <td>1</td>\n",
              "      <td>Noon</td>\n",
              "      <td>6</td>\n",
              "      <td>26</td>\n",
              "      <td>3</td>\n",
              "      <td>31</td>\n",
              "      <td>0</td>\n",
              "      <td>0</td>\n",
              "      <td>1</td>\n",
              "      <td>0</td>\n",
              "      <td>0</td>\n",
              "      <td>0</td>\n",
              "      <td>0</td>\n",
              "      <td>0</td>\n",
              "      <td>14</td>\n",
              "      <td>0.142826</td>\n",
              "    </tr>\n",
              "  </tbody>\n",
              "</table>\n",
              "</div>\n",
              "      <button class=\"colab-df-convert\" onclick=\"convertToInteractive('df-d6229ea9-438d-4c60-a26f-a8fc328f9938')\"\n",
              "              title=\"Convert this dataframe to an interactive table.\"\n",
              "              style=\"display:none;\">\n",
              "        \n",
              "  <svg xmlns=\"http://www.w3.org/2000/svg\" height=\"24px\"viewBox=\"0 0 24 24\"\n",
              "       width=\"24px\">\n",
              "    <path d=\"M0 0h24v24H0V0z\" fill=\"none\"/>\n",
              "    <path d=\"M18.56 5.44l.94 2.06.94-2.06 2.06-.94-2.06-.94-.94-2.06-.94 2.06-2.06.94zm-11 1L8.5 8.5l.94-2.06 2.06-.94-2.06-.94L8.5 2.5l-.94 2.06-2.06.94zm10 10l.94 2.06.94-2.06 2.06-.94-2.06-.94-.94-2.06-.94 2.06-2.06.94z\"/><path d=\"M17.41 7.96l-1.37-1.37c-.4-.4-.92-.59-1.43-.59-.52 0-1.04.2-1.43.59L10.3 9.45l-7.72 7.72c-.78.78-.78 2.05 0 2.83L4 21.41c.39.39.9.59 1.41.59.51 0 1.02-.2 1.41-.59l7.78-7.78 2.81-2.81c.8-.78.8-2.07 0-2.86zM5.41 20L4 18.59l7.72-7.72 1.47 1.35L5.41 20z\"/>\n",
              "  </svg>\n",
              "      </button>\n",
              "      \n",
              "  <style>\n",
              "    .colab-df-container {\n",
              "      display:flex;\n",
              "      flex-wrap:wrap;\n",
              "      gap: 12px;\n",
              "    }\n",
              "\n",
              "    .colab-df-convert {\n",
              "      background-color: #E8F0FE;\n",
              "      border: none;\n",
              "      border-radius: 50%;\n",
              "      cursor: pointer;\n",
              "      display: none;\n",
              "      fill: #1967D2;\n",
              "      height: 32px;\n",
              "      padding: 0 0 0 0;\n",
              "      width: 32px;\n",
              "    }\n",
              "\n",
              "    .colab-df-convert:hover {\n",
              "      background-color: #E2EBFA;\n",
              "      box-shadow: 0px 1px 2px rgba(60, 64, 67, 0.3), 0px 1px 3px 1px rgba(60, 64, 67, 0.15);\n",
              "      fill: #174EA6;\n",
              "    }\n",
              "\n",
              "    [theme=dark] .colab-df-convert {\n",
              "      background-color: #3B4455;\n",
              "      fill: #D2E3FC;\n",
              "    }\n",
              "\n",
              "    [theme=dark] .colab-df-convert:hover {\n",
              "      background-color: #434B5C;\n",
              "      box-shadow: 0px 1px 3px 1px rgba(0, 0, 0, 0.15);\n",
              "      filter: drop-shadow(0px 1px 2px rgba(0, 0, 0, 0.3));\n",
              "      fill: #FFFFFF;\n",
              "    }\n",
              "  </style>\n",
              "\n",
              "      <script>\n",
              "        const buttonEl =\n",
              "          document.querySelector('#df-d6229ea9-438d-4c60-a26f-a8fc328f9938 button.colab-df-convert');\n",
              "        buttonEl.style.display =\n",
              "          google.colab.kernel.accessAllowed ? 'block' : 'none';\n",
              "\n",
              "        async function convertToInteractive(key) {\n",
              "          const element = document.querySelector('#df-d6229ea9-438d-4c60-a26f-a8fc328f9938');\n",
              "          const dataTable =\n",
              "            await google.colab.kernel.invokeFunction('convertToInteractive',\n",
              "                                                     [key], {});\n",
              "          if (!dataTable) return;\n",
              "\n",
              "          const docLinkHtml = 'Like what you see? Visit the ' +\n",
              "            '<a target=\"_blank\" href=https://colab.research.google.com/notebooks/data_table.ipynb>data table notebook</a>'\n",
              "            + ' to learn more about interactive tables.';\n",
              "          element.innerHTML = '';\n",
              "          dataTable['output_type'] = 'display_data';\n",
              "          await google.colab.output.renderOutput(dataTable, element);\n",
              "          const docLink = document.createElement('div');\n",
              "          docLink.innerHTML = docLinkHtml;\n",
              "          element.appendChild(docLink);\n",
              "        }\n",
              "      </script>\n",
              "    </div>\n",
              "  </div>\n",
              "  "
            ],
            "text/plain": [
              "   campaign_id  sender  subject_len  body_len  mean_paragraph_len  \\\n",
              "0            1       3           76     10439                  39   \n",
              "1            2       3           54      2570                 256   \n",
              "2            3       3           59     12801                  16   \n",
              "3            4       3           74     11037                  30   \n",
              "4            5       3           80     10011                  27   \n",
              "\n",
              "   day_of_week  is_weekend times_of_day  category  product  no_of_CTA  \\\n",
              "0            5           1         Noon         6       26          3   \n",
              "1            5           1      Morning         2       11          0   \n",
              "2            5           1         Noon         2       11          3   \n",
              "3            4           0      Evening        15        9          4   \n",
              "4            5           1         Noon         6       26          3   \n",
              "\n",
              "   mean_CTA_len  is_image  is_personalised  is_quote  is_timer  is_emoticons  \\\n",
              "0            29         0                0         0         0             0   \n",
              "1            22         0                0         0         0             0   \n",
              "2            23         1                0         1         0             0   \n",
              "3            24         0                0         0         0             0   \n",
              "4            31         0                0         1         0             0   \n",
              "\n",
              "   is_discount  is_price  is_urgency  target_audience  click_rate  \n",
              "0            0         0           0               14    0.103079  \n",
              "1            0         0           0               10    0.700000  \n",
              "2            0         0           0               16    0.002769  \n",
              "3            0         0           0               10    0.010868  \n",
              "4            0         0           0               14    0.142826  "
            ]
          },
          "execution_count": 3,
          "metadata": {},
          "output_type": "execute_result"
        }
      ],
      "source": [
        "df.head()"
      ]
    },
    {
      "cell_type": "code",
      "execution_count": 14,
      "metadata": {
        "id": "gfnkedTDHvta"
      },
      "outputs": [
        {
          "data": {
            "application/vnd.jupyter.widget-view+json": {
              "model_id": "0afabb6000e042629918e5dd4ed5c908",
              "version_major": 2,
              "version_minor": 0
            },
            "text/plain": [
              "IntProgress(value=0, description='Processing: ', max=3)"
            ]
          },
          "metadata": {},
          "output_type": "display_data"
        },
        {
          "data": {
            "text/html": [
              "<div>\n",
              "<style scoped>\n",
              "    .dataframe tbody tr th:only-of-type {\n",
              "        vertical-align: middle;\n",
              "    }\n",
              "\n",
              "    .dataframe tbody tr th {\n",
              "        vertical-align: top;\n",
              "    }\n",
              "\n",
              "    .dataframe thead th {\n",
              "        text-align: right;\n",
              "    }\n",
              "</style>\n",
              "<table border=\"1\" class=\"dataframe\">\n",
              "  <thead>\n",
              "    <tr style=\"text-align: right;\">\n",
              "      <th></th>\n",
              "      <th></th>\n",
              "      <th></th>\n",
              "    </tr>\n",
              "    <tr>\n",
              "      <th></th>\n",
              "      <th></th>\n",
              "      <th></th>\n",
              "    </tr>\n",
              "  </thead>\n",
              "  <tbody>\n",
              "    <tr>\n",
              "      <th>Initiated</th>\n",
              "      <td>. . . . . . . . . . . . . . . . . .</td>\n",
              "      <td>20:34:23</td>\n",
              "    </tr>\n",
              "    <tr>\n",
              "      <th>Status</th>\n",
              "      <td>. . . . . . . . . . . . . . . . . .</td>\n",
              "      <td>Preparing Data for Modeling</td>\n",
              "    </tr>\n",
              "  </tbody>\n",
              "</table>\n",
              "</div>"
            ],
            "text/plain": [
              "                                                                           \n",
              "                                                                           \n",
              "Initiated  . . . . . . . . . . . . . . . . . .                     20:34:23\n",
              "Status     . . . . . . . . . . . . . . . . . .  Preparing Data for Modeling"
            ]
          },
          "metadata": {},
          "output_type": "display_data"
        },
        {
          "ename": "ValueError",
          "evalue": "Setting a random_state has no effect since shuffle is False. You should leave random_state to its default (None), or set shuffle=True.",
          "output_type": "error",
          "traceback": [
            "\u001b[1;31m---------------------------------------------------------------------------\u001b[0m",
            "\u001b[1;31mValueError\u001b[0m                                Traceback (most recent call last)",
            "\u001b[1;32md:\\Codes\\Jupyter Notebooks\\jt\\jt3\\jt3_CTR.ipynb Cell 34\u001b[0m in \u001b[0;36m<cell line: 1>\u001b[1;34m()\u001b[0m\n\u001b[1;32m----> <a href='vscode-notebook-cell:/d%3A/Codes/Jupyter%20Notebooks/jt/jt3/jt3_CTR.ipynb#X42sZmlsZQ%3D%3D?line=0'>1</a>\u001b[0m m\u001b[39m=\u001b[39msetup(data\u001b[39m=\u001b[39;49mdf,target\u001b[39m=\u001b[39;49m\u001b[39m'\u001b[39;49m\u001b[39mclick_rate\u001b[39;49m\u001b[39m'\u001b[39;49m)\n",
            "File \u001b[1;32mc:\\Users\\shrey\\anaconda3\\envs\\tnd_v4\\lib\\site-packages\\pycaret\\regression.py:571\u001b[0m, in \u001b[0;36msetup\u001b[1;34m(data, target, train_size, test_data, preprocess, imputation_type, iterative_imputation_iters, categorical_features, categorical_imputation, categorical_iterative_imputer, ordinal_features, high_cardinality_features, high_cardinality_method, numeric_features, numeric_imputation, numeric_iterative_imputer, date_features, ignore_features, normalize, normalize_method, transformation, transformation_method, handle_unknown_categorical, unknown_categorical_method, pca, pca_method, pca_components, ignore_low_variance, combine_rare_levels, rare_level_threshold, bin_numeric_features, remove_outliers, outliers_threshold, remove_multicollinearity, multicollinearity_threshold, remove_perfect_collinearity, create_clusters, cluster_iter, polynomial_features, polynomial_degree, trigonometry_features, polynomial_threshold, group_features, group_names, feature_selection, feature_selection_threshold, feature_selection_method, feature_interaction, feature_ratio, interaction_threshold, transform_target, transform_target_method, data_split_shuffle, data_split_stratify, fold_strategy, fold, fold_shuffle, fold_groups, n_jobs, use_gpu, custom_pipeline, html, session_id, log_experiment, experiment_name, log_plots, log_profile, log_data, silent, verbose, profile, profile_kwargs)\u001b[0m\n\u001b[0;32m    568\u001b[0m \u001b[39mif\u001b[39;00m log_plots \u001b[39m==\u001b[39m \u001b[39mTrue\u001b[39;00m:\n\u001b[0;32m    569\u001b[0m     log_plots \u001b[39m=\u001b[39m [\u001b[39m\"\u001b[39m\u001b[39mresiduals\u001b[39m\u001b[39m\"\u001b[39m, \u001b[39m\"\u001b[39m\u001b[39merror\u001b[39m\u001b[39m\"\u001b[39m, \u001b[39m\"\u001b[39m\u001b[39mfeature\u001b[39m\u001b[39m\"\u001b[39m]\n\u001b[1;32m--> 571\u001b[0m \u001b[39mreturn\u001b[39;00m pycaret\u001b[39m.\u001b[39;49minternal\u001b[39m.\u001b[39;49mtabular\u001b[39m.\u001b[39;49msetup(\n\u001b[0;32m    572\u001b[0m     ml_usecase\u001b[39m=\u001b[39;49m\u001b[39m\"\u001b[39;49m\u001b[39mregression\u001b[39;49m\u001b[39m\"\u001b[39;49m,\n\u001b[0;32m    573\u001b[0m     available_plots\u001b[39m=\u001b[39;49mavailable_plots,\n\u001b[0;32m    574\u001b[0m     data\u001b[39m=\u001b[39;49mdata,\n\u001b[0;32m    575\u001b[0m     target\u001b[39m=\u001b[39;49mtarget,\n\u001b[0;32m    576\u001b[0m     train_size\u001b[39m=\u001b[39;49mtrain_size,\n\u001b[0;32m    577\u001b[0m     test_data\u001b[39m=\u001b[39;49mtest_data,\n\u001b[0;32m    578\u001b[0m     preprocess\u001b[39m=\u001b[39;49mpreprocess,\n\u001b[0;32m    579\u001b[0m     imputation_type\u001b[39m=\u001b[39;49mimputation_type,\n\u001b[0;32m    580\u001b[0m     iterative_imputation_iters\u001b[39m=\u001b[39;49miterative_imputation_iters,\n\u001b[0;32m    581\u001b[0m     categorical_features\u001b[39m=\u001b[39;49mcategorical_features,\n\u001b[0;32m    582\u001b[0m     categorical_imputation\u001b[39m=\u001b[39;49mcategorical_imputation,\n\u001b[0;32m    583\u001b[0m     categorical_iterative_imputer\u001b[39m=\u001b[39;49mcategorical_iterative_imputer,\n\u001b[0;32m    584\u001b[0m     ordinal_features\u001b[39m=\u001b[39;49mordinal_features,\n\u001b[0;32m    585\u001b[0m     high_cardinality_features\u001b[39m=\u001b[39;49mhigh_cardinality_features,\n\u001b[0;32m    586\u001b[0m     high_cardinality_method\u001b[39m=\u001b[39;49mhigh_cardinality_method,\n\u001b[0;32m    587\u001b[0m     numeric_features\u001b[39m=\u001b[39;49mnumeric_features,\n\u001b[0;32m    588\u001b[0m     numeric_imputation\u001b[39m=\u001b[39;49mnumeric_imputation,\n\u001b[0;32m    589\u001b[0m     numeric_iterative_imputer\u001b[39m=\u001b[39;49mnumeric_iterative_imputer,\n\u001b[0;32m    590\u001b[0m     date_features\u001b[39m=\u001b[39;49mdate_features,\n\u001b[0;32m    591\u001b[0m     ignore_features\u001b[39m=\u001b[39;49mignore_features,\n\u001b[0;32m    592\u001b[0m     normalize\u001b[39m=\u001b[39;49mnormalize,\n\u001b[0;32m    593\u001b[0m     normalize_method\u001b[39m=\u001b[39;49mnormalize_method,\n\u001b[0;32m    594\u001b[0m     transformation\u001b[39m=\u001b[39;49mtransformation,\n\u001b[0;32m    595\u001b[0m     transformation_method\u001b[39m=\u001b[39;49mtransformation_method,\n\u001b[0;32m    596\u001b[0m     handle_unknown_categorical\u001b[39m=\u001b[39;49mhandle_unknown_categorical,\n\u001b[0;32m    597\u001b[0m     unknown_categorical_method\u001b[39m=\u001b[39;49munknown_categorical_method,\n\u001b[0;32m    598\u001b[0m     pca\u001b[39m=\u001b[39;49mpca,\n\u001b[0;32m    599\u001b[0m     pca_method\u001b[39m=\u001b[39;49mpca_method,\n\u001b[0;32m    600\u001b[0m     pca_components\u001b[39m=\u001b[39;49mpca_components,\n\u001b[0;32m    601\u001b[0m     ignore_low_variance\u001b[39m=\u001b[39;49mignore_low_variance,\n\u001b[0;32m    602\u001b[0m     combine_rare_levels\u001b[39m=\u001b[39;49mcombine_rare_levels,\n\u001b[0;32m    603\u001b[0m     rare_level_threshold\u001b[39m=\u001b[39;49mrare_level_threshold,\n\u001b[0;32m    604\u001b[0m     bin_numeric_features\u001b[39m=\u001b[39;49mbin_numeric_features,\n\u001b[0;32m    605\u001b[0m     remove_outliers\u001b[39m=\u001b[39;49mremove_outliers,\n\u001b[0;32m    606\u001b[0m     outliers_threshold\u001b[39m=\u001b[39;49moutliers_threshold,\n\u001b[0;32m    607\u001b[0m     remove_multicollinearity\u001b[39m=\u001b[39;49mremove_multicollinearity,\n\u001b[0;32m    608\u001b[0m     multicollinearity_threshold\u001b[39m=\u001b[39;49mmulticollinearity_threshold,\n\u001b[0;32m    609\u001b[0m     remove_perfect_collinearity\u001b[39m=\u001b[39;49mremove_perfect_collinearity,\n\u001b[0;32m    610\u001b[0m     create_clusters\u001b[39m=\u001b[39;49mcreate_clusters,\n\u001b[0;32m    611\u001b[0m     cluster_iter\u001b[39m=\u001b[39;49mcluster_iter,\n\u001b[0;32m    612\u001b[0m     polynomial_features\u001b[39m=\u001b[39;49mpolynomial_features,\n\u001b[0;32m    613\u001b[0m     polynomial_degree\u001b[39m=\u001b[39;49mpolynomial_degree,\n\u001b[0;32m    614\u001b[0m     trigonometry_features\u001b[39m=\u001b[39;49mtrigonometry_features,\n\u001b[0;32m    615\u001b[0m     polynomial_threshold\u001b[39m=\u001b[39;49mpolynomial_threshold,\n\u001b[0;32m    616\u001b[0m     group_features\u001b[39m=\u001b[39;49mgroup_features,\n\u001b[0;32m    617\u001b[0m     group_names\u001b[39m=\u001b[39;49mgroup_names,\n\u001b[0;32m    618\u001b[0m     feature_selection\u001b[39m=\u001b[39;49mfeature_selection,\n\u001b[0;32m    619\u001b[0m     feature_selection_threshold\u001b[39m=\u001b[39;49mfeature_selection_threshold,\n\u001b[0;32m    620\u001b[0m     feature_selection_method\u001b[39m=\u001b[39;49mfeature_selection_method,\n\u001b[0;32m    621\u001b[0m     feature_interaction\u001b[39m=\u001b[39;49mfeature_interaction,\n\u001b[0;32m    622\u001b[0m     feature_ratio\u001b[39m=\u001b[39;49mfeature_ratio,\n\u001b[0;32m    623\u001b[0m     interaction_threshold\u001b[39m=\u001b[39;49minteraction_threshold,\n\u001b[0;32m    624\u001b[0m     transform_target\u001b[39m=\u001b[39;49mtransform_target,\n\u001b[0;32m    625\u001b[0m     transform_target_method\u001b[39m=\u001b[39;49mtransform_target_method,\n\u001b[0;32m    626\u001b[0m     data_split_shuffle\u001b[39m=\u001b[39;49mdata_split_shuffle,\n\u001b[0;32m    627\u001b[0m     data_split_stratify\u001b[39m=\u001b[39;49mdata_split_stratify,\n\u001b[0;32m    628\u001b[0m     fold_strategy\u001b[39m=\u001b[39;49mfold_strategy,\n\u001b[0;32m    629\u001b[0m     fold\u001b[39m=\u001b[39;49mfold,\n\u001b[0;32m    630\u001b[0m     fold_shuffle\u001b[39m=\u001b[39;49mfold_shuffle,\n\u001b[0;32m    631\u001b[0m     fold_groups\u001b[39m=\u001b[39;49mfold_groups,\n\u001b[0;32m    632\u001b[0m     n_jobs\u001b[39m=\u001b[39;49mn_jobs,\n\u001b[0;32m    633\u001b[0m     use_gpu\u001b[39m=\u001b[39;49muse_gpu,\n\u001b[0;32m    634\u001b[0m     custom_pipeline\u001b[39m=\u001b[39;49mcustom_pipeline,\n\u001b[0;32m    635\u001b[0m     html\u001b[39m=\u001b[39;49mhtml,\n\u001b[0;32m    636\u001b[0m     session_id\u001b[39m=\u001b[39;49msession_id,\n\u001b[0;32m    637\u001b[0m     log_experiment\u001b[39m=\u001b[39;49mlog_experiment,\n\u001b[0;32m    638\u001b[0m     experiment_name\u001b[39m=\u001b[39;49mexperiment_name,\n\u001b[0;32m    639\u001b[0m     log_plots\u001b[39m=\u001b[39;49mlog_plots,\n\u001b[0;32m    640\u001b[0m     log_profile\u001b[39m=\u001b[39;49mlog_profile,\n\u001b[0;32m    641\u001b[0m     log_data\u001b[39m=\u001b[39;49mlog_data,\n\u001b[0;32m    642\u001b[0m     silent\u001b[39m=\u001b[39;49msilent,\n\u001b[0;32m    643\u001b[0m     verbose\u001b[39m=\u001b[39;49mverbose,\n\u001b[0;32m    644\u001b[0m     profile\u001b[39m=\u001b[39;49mprofile,\n\u001b[0;32m    645\u001b[0m     profile_kwargs\u001b[39m=\u001b[39;49mprofile_kwargs,\n\u001b[0;32m    646\u001b[0m )\n",
            "File \u001b[1;32mc:\\Users\\shrey\\anaconda3\\envs\\tnd_v4\\lib\\site-packages\\pycaret\\internal\\tabular.py:1210\u001b[0m, in \u001b[0;36msetup\u001b[1;34m(data, target, ml_usecase, available_plots, train_size, test_data, preprocess, imputation_type, iterative_imputation_iters, categorical_features, categorical_imputation, categorical_iterative_imputer, ordinal_features, high_cardinality_features, high_cardinality_method, numeric_features, numeric_imputation, numeric_iterative_imputer, date_features, ignore_features, normalize, normalize_method, transformation, transformation_method, handle_unknown_categorical, unknown_categorical_method, pca, pca_method, pca_components, ignore_low_variance, combine_rare_levels, rare_level_threshold, bin_numeric_features, remove_outliers, outliers_threshold, remove_multicollinearity, multicollinearity_threshold, remove_perfect_collinearity, create_clusters, cluster_iter, polynomial_features, polynomial_degree, trigonometry_features, polynomial_threshold, group_features, group_names, feature_selection, feature_selection_threshold, feature_selection_method, feature_interaction, feature_ratio, interaction_threshold, fix_imbalance, fix_imbalance_method, transform_target, transform_target_method, data_split_shuffle, data_split_stratify, fold_strategy, fold, fold_shuffle, fold_groups, n_jobs, use_gpu, custom_pipeline, html, session_id, log_experiment, experiment_name, log_plots, log_profile, log_data, silent, verbose, profile, profile_kwargs, display)\u001b[0m\n\u001b[0;32m   1202\u001b[0m \u001b[39mfrom\u001b[39;00m \u001b[39msklearn\u001b[39;00m\u001b[39m.\u001b[39;00m\u001b[39mmodel_selection\u001b[39;00m \u001b[39mimport\u001b[39;00m (\n\u001b[0;32m   1203\u001b[0m     StratifiedKFold,\n\u001b[0;32m   1204\u001b[0m     KFold,\n\u001b[0;32m   1205\u001b[0m     GroupKFold,\n\u001b[0;32m   1206\u001b[0m     TimeSeriesSplit,\n\u001b[0;32m   1207\u001b[0m )\n\u001b[0;32m   1209\u001b[0m \u001b[39mif\u001b[39;00m fold_strategy \u001b[39m==\u001b[39m \u001b[39m\"\u001b[39m\u001b[39mkfold\u001b[39m\u001b[39m\"\u001b[39m:\n\u001b[1;32m-> 1210\u001b[0m     fold_generator \u001b[39m=\u001b[39m KFold(\n\u001b[0;32m   1211\u001b[0m         fold_param, random_state\u001b[39m=\u001b[39;49mseed, shuffle\u001b[39m=\u001b[39;49mfold_shuffle_param\n\u001b[0;32m   1212\u001b[0m     )\n\u001b[0;32m   1213\u001b[0m \u001b[39melif\u001b[39;00m fold_strategy \u001b[39m==\u001b[39m \u001b[39m\"\u001b[39m\u001b[39mstratifiedkfold\u001b[39m\u001b[39m\"\u001b[39m:\n\u001b[0;32m   1214\u001b[0m     fold_generator \u001b[39m=\u001b[39m StratifiedKFold(\n\u001b[0;32m   1215\u001b[0m         fold_param, random_state\u001b[39m=\u001b[39mseed, shuffle\u001b[39m=\u001b[39mfold_shuffle_param\n\u001b[0;32m   1216\u001b[0m     )\n",
            "File \u001b[1;32mc:\\Users\\shrey\\anaconda3\\envs\\tnd_v4\\lib\\site-packages\\sklearn\\model_selection\\_split.py:435\u001b[0m, in \u001b[0;36mKFold.__init__\u001b[1;34m(self, n_splits, shuffle, random_state)\u001b[0m\n\u001b[0;32m    434\u001b[0m \u001b[39mdef\u001b[39;00m \u001b[39m__init__\u001b[39m(\u001b[39mself\u001b[39m, n_splits\u001b[39m=\u001b[39m\u001b[39m5\u001b[39m, \u001b[39m*\u001b[39m, shuffle\u001b[39m=\u001b[39m\u001b[39mFalse\u001b[39;00m, random_state\u001b[39m=\u001b[39m\u001b[39mNone\u001b[39;00m):\n\u001b[1;32m--> 435\u001b[0m     \u001b[39msuper\u001b[39;49m()\u001b[39m.\u001b[39;49m\u001b[39m__init__\u001b[39;49m(n_splits\u001b[39m=\u001b[39;49mn_splits, shuffle\u001b[39m=\u001b[39;49mshuffle, random_state\u001b[39m=\u001b[39;49mrandom_state)\n",
            "File \u001b[1;32mc:\\Users\\shrey\\anaconda3\\envs\\tnd_v4\\lib\\site-packages\\sklearn\\model_selection\\_split.py:296\u001b[0m, in \u001b[0;36m_BaseKFold.__init__\u001b[1;34m(self, n_splits, shuffle, random_state)\u001b[0m\n\u001b[0;32m    293\u001b[0m     \u001b[39mraise\u001b[39;00m \u001b[39mTypeError\u001b[39;00m(\u001b[39m\"\u001b[39m\u001b[39mshuffle must be True or False; got \u001b[39m\u001b[39m{0}\u001b[39;00m\u001b[39m\"\u001b[39m\u001b[39m.\u001b[39mformat(shuffle))\n\u001b[0;32m    295\u001b[0m \u001b[39mif\u001b[39;00m \u001b[39mnot\u001b[39;00m shuffle \u001b[39mand\u001b[39;00m random_state \u001b[39mis\u001b[39;00m \u001b[39mnot\u001b[39;00m \u001b[39mNone\u001b[39;00m:  \u001b[39m# None is the default\u001b[39;00m\n\u001b[1;32m--> 296\u001b[0m     \u001b[39mraise\u001b[39;00m \u001b[39mValueError\u001b[39;00m(\n\u001b[0;32m    297\u001b[0m         \u001b[39m\"\u001b[39m\u001b[39mSetting a random_state has no effect since shuffle is \u001b[39m\u001b[39m\"\u001b[39m\n\u001b[0;32m    298\u001b[0m         \u001b[39m\"\u001b[39m\u001b[39mFalse. You should leave \u001b[39m\u001b[39m\"\u001b[39m\n\u001b[0;32m    299\u001b[0m         \u001b[39m\"\u001b[39m\u001b[39mrandom_state to its default (None), or set shuffle=True.\u001b[39m\u001b[39m\"\u001b[39m,\n\u001b[0;32m    300\u001b[0m     )\n\u001b[0;32m    302\u001b[0m \u001b[39mself\u001b[39m\u001b[39m.\u001b[39mn_splits \u001b[39m=\u001b[39m n_splits\n\u001b[0;32m    303\u001b[0m \u001b[39mself\u001b[39m\u001b[39m.\u001b[39mshuffle \u001b[39m=\u001b[39m shuffle\n",
            "\u001b[1;31mValueError\u001b[0m: Setting a random_state has no effect since shuffle is False. You should leave random_state to its default (None), or set shuffle=True."
          ]
        }
      ],
      "source": [
        "m=setup(data=df,target='click_rate')"
      ]
    },
    {
      "cell_type": "code",
      "execution_count": null,
      "metadata": {
        "colab": {
          "base_uri": "https://localhost:8080/",
          "height": 614,
          "referenced_widgets": [
            "167dabe481484ea5a62e30aa16a4625a",
            "b4856622b0eb40fbb92dfdd87be0b028",
            "362eaddbfabe4278b1a84095986890b4"
          ]
        },
        "id": "dWr-iGEhIPgK",
        "outputId": "bc54caf7-d435-452b-ee24-d79d7f8aaabf"
      },
      "outputs": [
        {
          "data": {
            "text/html": [
              "\n",
              "  <div id=\"df-2b995705-32da-48cd-8bee-3ac4f2c8da08\">\n",
              "    <div class=\"colab-df-container\">\n",
              "      <div>\n",
              "<style scoped>\n",
              "    .dataframe tbody tr th:only-of-type {\n",
              "        vertical-align: middle;\n",
              "    }\n",
              "\n",
              "    .dataframe tbody tr th {\n",
              "        vertical-align: top;\n",
              "    }\n",
              "\n",
              "    .dataframe thead th {\n",
              "        text-align: right;\n",
              "    }\n",
              "</style>\n",
              "<table border=\"1\" class=\"dataframe\">\n",
              "  <thead>\n",
              "    <tr style=\"text-align: right;\">\n",
              "      <th></th>\n",
              "      <th>Model</th>\n",
              "      <th>MAE</th>\n",
              "      <th>MSE</th>\n",
              "      <th>RMSE</th>\n",
              "      <th>R2</th>\n",
              "      <th>RMSLE</th>\n",
              "      <th>MAPE</th>\n",
              "      <th>TT (Sec)</th>\n",
              "    </tr>\n",
              "  </thead>\n",
              "  <tbody>\n",
              "    <tr>\n",
              "      <th>rf</th>\n",
              "      <td>Random Forest Regressor</td>\n",
              "      <td>3.140000e-02</td>\n",
              "      <td>3.700000e-03</td>\n",
              "      <td>5.890000e-02</td>\n",
              "      <td>4.320000e-01</td>\n",
              "      <td>0.0497</td>\n",
              "      <td>2.444700e+00</td>\n",
              "      <td>1.273</td>\n",
              "    </tr>\n",
              "    <tr>\n",
              "      <th>et</th>\n",
              "      <td>Extra Trees Regressor</td>\n",
              "      <td>3.060000e-02</td>\n",
              "      <td>3.700000e-03</td>\n",
              "      <td>5.920000e-02</td>\n",
              "      <td>4.091000e-01</td>\n",
              "      <td>0.0499</td>\n",
              "      <td>2.405600e+00</td>\n",
              "      <td>1.118</td>\n",
              "    </tr>\n",
              "    <tr>\n",
              "      <th>lightgbm</th>\n",
              "      <td>Light Gradient Boosting Machine</td>\n",
              "      <td>3.270000e-02</td>\n",
              "      <td>3.900000e-03</td>\n",
              "      <td>6.040000e-02</td>\n",
              "      <td>3.942000e-01</td>\n",
              "      <td>0.0505</td>\n",
              "      <td>2.397700e+00</td>\n",
              "      <td>0.105</td>\n",
              "    </tr>\n",
              "    <tr>\n",
              "      <th>gbr</th>\n",
              "      <td>Gradient Boosting Regressor</td>\n",
              "      <td>3.300000e-02</td>\n",
              "      <td>3.900000e-03</td>\n",
              "      <td>6.060000e-02</td>\n",
              "      <td>3.915000e-01</td>\n",
              "      <td>0.0512</td>\n",
              "      <td>2.491000e+00</td>\n",
              "      <td>0.267</td>\n",
              "    </tr>\n",
              "    <tr>\n",
              "      <th>omp</th>\n",
              "      <td>Orthogonal Matching Pursuit</td>\n",
              "      <td>4.310000e-02</td>\n",
              "      <td>5.500000e-03</td>\n",
              "      <td>7.210000e-02</td>\n",
              "      <td>1.639000e-01</td>\n",
              "      <td>0.0603</td>\n",
              "      <td>3.908700e+00</td>\n",
              "      <td>0.027</td>\n",
              "    </tr>\n",
              "    <tr>\n",
              "      <th>ridge</th>\n",
              "      <td>Ridge Regression</td>\n",
              "      <td>4.460000e-02</td>\n",
              "      <td>5.700000e-03</td>\n",
              "      <td>7.320000e-02</td>\n",
              "      <td>1.391000e-01</td>\n",
              "      <td>0.0613</td>\n",
              "      <td>4.249700e+00</td>\n",
              "      <td>0.044</td>\n",
              "    </tr>\n",
              "    <tr>\n",
              "      <th>br</th>\n",
              "      <td>Bayesian Ridge</td>\n",
              "      <td>4.480000e-02</td>\n",
              "      <td>6.000000e-03</td>\n",
              "      <td>7.500000e-02</td>\n",
              "      <td>1.124000e-01</td>\n",
              "      <td>0.0624</td>\n",
              "      <td>4.249300e+00</td>\n",
              "      <td>0.043</td>\n",
              "    </tr>\n",
              "    <tr>\n",
              "      <th>lr</th>\n",
              "      <td>Linear Regression</td>\n",
              "      <td>4.580000e-02</td>\n",
              "      <td>5.800000e-03</td>\n",
              "      <td>7.420000e-02</td>\n",
              "      <td>9.620000e-02</td>\n",
              "      <td>0.0620</td>\n",
              "      <td>4.479300e+00</td>\n",
              "      <td>0.623</td>\n",
              "    </tr>\n",
              "    <tr>\n",
              "      <th>knn</th>\n",
              "      <td>K Neighbors Regressor</td>\n",
              "      <td>4.090000e-02</td>\n",
              "      <td>5.700000e-03</td>\n",
              "      <td>7.370000e-02</td>\n",
              "      <td>8.790000e-02</td>\n",
              "      <td>0.0630</td>\n",
              "      <td>3.770900e+00</td>\n",
              "      <td>0.069</td>\n",
              "    </tr>\n",
              "    <tr>\n",
              "      <th>lasso</th>\n",
              "      <td>Lasso Regression</td>\n",
              "      <td>4.790000e-02</td>\n",
              "      <td>6.800000e-03</td>\n",
              "      <td>7.970000e-02</td>\n",
              "      <td>3.800000e-03</td>\n",
              "      <td>0.0669</td>\n",
              "      <td>4.994500e+00</td>\n",
              "      <td>0.037</td>\n",
              "    </tr>\n",
              "    <tr>\n",
              "      <th>en</th>\n",
              "      <td>Elastic Net</td>\n",
              "      <td>4.790000e-02</td>\n",
              "      <td>6.800000e-03</td>\n",
              "      <td>7.970000e-02</td>\n",
              "      <td>3.600000e-03</td>\n",
              "      <td>0.0669</td>\n",
              "      <td>4.996900e+00</td>\n",
              "      <td>0.056</td>\n",
              "    </tr>\n",
              "    <tr>\n",
              "      <th>llar</th>\n",
              "      <td>Lasso Least Angle Regression</td>\n",
              "      <td>4.860000e-02</td>\n",
              "      <td>7.200000e-03</td>\n",
              "      <td>8.180000e-02</td>\n",
              "      <td>-3.210000e-02</td>\n",
              "      <td>0.0691</td>\n",
              "      <td>4.945100e+00</td>\n",
              "      <td>0.026</td>\n",
              "    </tr>\n",
              "    <tr>\n",
              "      <th>dummy</th>\n",
              "      <td>Dummy Regressor</td>\n",
              "      <td>4.860000e-02</td>\n",
              "      <td>7.200000e-03</td>\n",
              "      <td>8.180000e-02</td>\n",
              "      <td>-3.210000e-02</td>\n",
              "      <td>0.0691</td>\n",
              "      <td>4.945100e+00</td>\n",
              "      <td>0.015</td>\n",
              "    </tr>\n",
              "    <tr>\n",
              "      <th>huber</th>\n",
              "      <td>Huber Regressor</td>\n",
              "      <td>4.120000e-02</td>\n",
              "      <td>8.000000e-03</td>\n",
              "      <td>8.550000e-02</td>\n",
              "      <td>-1.108000e-01</td>\n",
              "      <td>0.0718</td>\n",
              "      <td>2.376600e+00</td>\n",
              "      <td>0.185</td>\n",
              "    </tr>\n",
              "    <tr>\n",
              "      <th>dt</th>\n",
              "      <td>Decision Tree Regressor</td>\n",
              "      <td>4.030000e-02</td>\n",
              "      <td>7.100000e-03</td>\n",
              "      <td>8.110000e-02</td>\n",
              "      <td>-1.283000e-01</td>\n",
              "      <td>0.0690</td>\n",
              "      <td>2.637600e+00</td>\n",
              "      <td>0.033</td>\n",
              "    </tr>\n",
              "    <tr>\n",
              "      <th>ada</th>\n",
              "      <td>AdaBoost Regressor</td>\n",
              "      <td>6.420000e-02</td>\n",
              "      <td>6.900000e-03</td>\n",
              "      <td>8.220000e-02</td>\n",
              "      <td>-3.128000e-01</td>\n",
              "      <td>0.0725</td>\n",
              "      <td>8.454300e+00</td>\n",
              "      <td>0.148</td>\n",
              "    </tr>\n",
              "    <tr>\n",
              "      <th>par</th>\n",
              "      <td>Passive Aggressive Regressor</td>\n",
              "      <td>8.030000e-02</td>\n",
              "      <td>1.100000e-02</td>\n",
              "      <td>1.032000e-01</td>\n",
              "      <td>-1.058100e+00</td>\n",
              "      <td>0.0898</td>\n",
              "      <td>1.052930e+01</td>\n",
              "      <td>0.034</td>\n",
              "    </tr>\n",
              "    <tr>\n",
              "      <th>lar</th>\n",
              "      <td>Least Angle Regression</td>\n",
              "      <td>6.072964e+09</td>\n",
              "      <td>2.446915e+22</td>\n",
              "      <td>4.947400e+10</td>\n",
              "      <td>-3.978167e+24</td>\n",
              "      <td>5.2124</td>\n",
              "      <td>3.025878e+12</td>\n",
              "      <td>0.075</td>\n",
              "    </tr>\n",
              "  </tbody>\n",
              "</table>\n",
              "</div>\n",
              "      <button class=\"colab-df-convert\" onclick=\"convertToInteractive('df-2b995705-32da-48cd-8bee-3ac4f2c8da08')\"\n",
              "              title=\"Convert this dataframe to an interactive table.\"\n",
              "              style=\"display:none;\">\n",
              "        \n",
              "  <svg xmlns=\"http://www.w3.org/2000/svg\" height=\"24px\"viewBox=\"0 0 24 24\"\n",
              "       width=\"24px\">\n",
              "    <path d=\"M0 0h24v24H0V0z\" fill=\"none\"/>\n",
              "    <path d=\"M18.56 5.44l.94 2.06.94-2.06 2.06-.94-2.06-.94-.94-2.06-.94 2.06-2.06.94zm-11 1L8.5 8.5l.94-2.06 2.06-.94-2.06-.94L8.5 2.5l-.94 2.06-2.06.94zm10 10l.94 2.06.94-2.06 2.06-.94-2.06-.94-.94-2.06-.94 2.06-2.06.94z\"/><path d=\"M17.41 7.96l-1.37-1.37c-.4-.4-.92-.59-1.43-.59-.52 0-1.04.2-1.43.59L10.3 9.45l-7.72 7.72c-.78.78-.78 2.05 0 2.83L4 21.41c.39.39.9.59 1.41.59.51 0 1.02-.2 1.41-.59l7.78-7.78 2.81-2.81c.8-.78.8-2.07 0-2.86zM5.41 20L4 18.59l7.72-7.72 1.47 1.35L5.41 20z\"/>\n",
              "  </svg>\n",
              "      </button>\n",
              "      \n",
              "  <style>\n",
              "    .colab-df-container {\n",
              "      display:flex;\n",
              "      flex-wrap:wrap;\n",
              "      gap: 12px;\n",
              "    }\n",
              "\n",
              "    .colab-df-convert {\n",
              "      background-color: #E8F0FE;\n",
              "      border: none;\n",
              "      border-radius: 50%;\n",
              "      cursor: pointer;\n",
              "      display: none;\n",
              "      fill: #1967D2;\n",
              "      height: 32px;\n",
              "      padding: 0 0 0 0;\n",
              "      width: 32px;\n",
              "    }\n",
              "\n",
              "    .colab-df-convert:hover {\n",
              "      background-color: #E2EBFA;\n",
              "      box-shadow: 0px 1px 2px rgba(60, 64, 67, 0.3), 0px 1px 3px 1px rgba(60, 64, 67, 0.15);\n",
              "      fill: #174EA6;\n",
              "    }\n",
              "\n",
              "    [theme=dark] .colab-df-convert {\n",
              "      background-color: #3B4455;\n",
              "      fill: #D2E3FC;\n",
              "    }\n",
              "\n",
              "    [theme=dark] .colab-df-convert:hover {\n",
              "      background-color: #434B5C;\n",
              "      box-shadow: 0px 1px 3px 1px rgba(0, 0, 0, 0.15);\n",
              "      filter: drop-shadow(0px 1px 2px rgba(0, 0, 0, 0.3));\n",
              "      fill: #FFFFFF;\n",
              "    }\n",
              "  </style>\n",
              "\n",
              "      <script>\n",
              "        const buttonEl =\n",
              "          document.querySelector('#df-2b995705-32da-48cd-8bee-3ac4f2c8da08 button.colab-df-convert');\n",
              "        buttonEl.style.display =\n",
              "          google.colab.kernel.accessAllowed ? 'block' : 'none';\n",
              "\n",
              "        async function convertToInteractive(key) {\n",
              "          const element = document.querySelector('#df-2b995705-32da-48cd-8bee-3ac4f2c8da08');\n",
              "          const dataTable =\n",
              "            await google.colab.kernel.invokeFunction('convertToInteractive',\n",
              "                                                     [key], {});\n",
              "          if (!dataTable) return;\n",
              "\n",
              "          const docLinkHtml = 'Like what you see? Visit the ' +\n",
              "            '<a target=\"_blank\" href=https://colab.research.google.com/notebooks/data_table.ipynb>data table notebook</a>'\n",
              "            + ' to learn more about interactive tables.';\n",
              "          element.innerHTML = '';\n",
              "          dataTable['output_type'] = 'display_data';\n",
              "          await google.colab.output.renderOutput(dataTable, element);\n",
              "          const docLink = document.createElement('div');\n",
              "          docLink.innerHTML = docLinkHtml;\n",
              "          element.appendChild(docLink);\n",
              "        }\n",
              "      </script>\n",
              "    </div>\n",
              "  </div>\n",
              "  "
            ],
            "text/plain": [
              "                                    Model           MAE           MSE  \\\n",
              "rf                Random Forest Regressor  3.140000e-02  3.700000e-03   \n",
              "et                  Extra Trees Regressor  3.060000e-02  3.700000e-03   \n",
              "lightgbm  Light Gradient Boosting Machine  3.270000e-02  3.900000e-03   \n",
              "gbr           Gradient Boosting Regressor  3.300000e-02  3.900000e-03   \n",
              "omp           Orthogonal Matching Pursuit  4.310000e-02  5.500000e-03   \n",
              "ridge                    Ridge Regression  4.460000e-02  5.700000e-03   \n",
              "br                         Bayesian Ridge  4.480000e-02  6.000000e-03   \n",
              "lr                      Linear Regression  4.580000e-02  5.800000e-03   \n",
              "knn                 K Neighbors Regressor  4.090000e-02  5.700000e-03   \n",
              "lasso                    Lasso Regression  4.790000e-02  6.800000e-03   \n",
              "en                            Elastic Net  4.790000e-02  6.800000e-03   \n",
              "llar         Lasso Least Angle Regression  4.860000e-02  7.200000e-03   \n",
              "dummy                     Dummy Regressor  4.860000e-02  7.200000e-03   \n",
              "huber                     Huber Regressor  4.120000e-02  8.000000e-03   \n",
              "dt                Decision Tree Regressor  4.030000e-02  7.100000e-03   \n",
              "ada                    AdaBoost Regressor  6.420000e-02  6.900000e-03   \n",
              "par          Passive Aggressive Regressor  8.030000e-02  1.100000e-02   \n",
              "lar                Least Angle Regression  6.072964e+09  2.446915e+22   \n",
              "\n",
              "                  RMSE            R2   RMSLE          MAPE  TT (Sec)  \n",
              "rf        5.890000e-02  4.320000e-01  0.0497  2.444700e+00     1.273  \n",
              "et        5.920000e-02  4.091000e-01  0.0499  2.405600e+00     1.118  \n",
              "lightgbm  6.040000e-02  3.942000e-01  0.0505  2.397700e+00     0.105  \n",
              "gbr       6.060000e-02  3.915000e-01  0.0512  2.491000e+00     0.267  \n",
              "omp       7.210000e-02  1.639000e-01  0.0603  3.908700e+00     0.027  \n",
              "ridge     7.320000e-02  1.391000e-01  0.0613  4.249700e+00     0.044  \n",
              "br        7.500000e-02  1.124000e-01  0.0624  4.249300e+00     0.043  \n",
              "lr        7.420000e-02  9.620000e-02  0.0620  4.479300e+00     0.623  \n",
              "knn       7.370000e-02  8.790000e-02  0.0630  3.770900e+00     0.069  \n",
              "lasso     7.970000e-02  3.800000e-03  0.0669  4.994500e+00     0.037  \n",
              "en        7.970000e-02  3.600000e-03  0.0669  4.996900e+00     0.056  \n",
              "llar      8.180000e-02 -3.210000e-02  0.0691  4.945100e+00     0.026  \n",
              "dummy     8.180000e-02 -3.210000e-02  0.0691  4.945100e+00     0.015  \n",
              "huber     8.550000e-02 -1.108000e-01  0.0718  2.376600e+00     0.185  \n",
              "dt        8.110000e-02 -1.283000e-01  0.0690  2.637600e+00     0.033  \n",
              "ada       8.220000e-02 -3.128000e-01  0.0725  8.454300e+00     0.148  \n",
              "par       1.032000e-01 -1.058100e+00  0.0898  1.052930e+01     0.034  \n",
              "lar       4.947400e+10 -3.978167e+24  5.2124  3.025878e+12     0.075  "
            ]
          },
          "metadata": {},
          "output_type": "display_data"
        }
      ],
      "source": [
        "best_model=compare_models()"
      ]
    },
    {
      "cell_type": "code",
      "execution_count": null,
      "metadata": {
        "colab": {
          "base_uri": "https://localhost:8080/",
          "height": 294,
          "referenced_widgets": [
            "466044bff1244041951dd70cc6445168",
            "f3ef04d6f036447c96c63dd94b0f8ac9",
            "521c8f6ce4fa4bf4b60e9ed1d3c5e220"
          ]
        },
        "id": "D1lzNHmyW3nd",
        "outputId": "b1c641fe-03f4-4746-8aca-7b402f8aab71"
      },
      "outputs": [
        {
          "data": {
            "image/png": "[encoded data removed]",
            "text/plain": [
              "<Figure size 432x288 with 2 Axes>"
            ]
          },
          "metadata": {
            "needs_background": "light"
          },
          "output_type": "display_data"
        }
      ],
      "source": [
        "plot_model(best_model)"
      ]
    },
    {
      "cell_type": "code",
      "execution_count": 34,
      "metadata": {
        "colab": {
          "base_uri": "https://localhost:8080/",
          "height": 270
        },
        "id": "iJ9r2WUEX0kX",
        "outputId": "3c691a60-78cd-46ae-8db9-cd6f51de271a"
      },
      "outputs": [
        {
          "data": {
            "text/html": [
              "\n",
              "  <div id=\"df-f1acd721-5a6e-4e66-8707-73db676de5e3\">\n",
              "    <div class=\"colab-df-container\">\n",
              "      <div>\n",
              "<style scoped>\n",
              "    .dataframe tbody tr th:only-of-type {\n",
              "        vertical-align: middle;\n",
              "    }\n",
              "\n",
              "    .dataframe tbody tr th {\n",
              "        vertical-align: top;\n",
              "    }\n",
              "\n",
              "    .dataframe thead th {\n",
              "        text-align: right;\n",
              "    }\n",
              "</style>\n",
              "<table border=\"1\" class=\"dataframe\">\n",
              "  <thead>\n",
              "    <tr style=\"text-align: right;\">\n",
              "      <th></th>\n",
              "      <th>campaign_id</th>\n",
              "      <th>sender</th>\n",
              "      <th>subject_len</th>\n",
              "      <th>body_len</th>\n",
              "      <th>mean_paragraph_len</th>\n",
              "      <th>day_of_week</th>\n",
              "      <th>is_weekend</th>\n",
              "      <th>times_of_day</th>\n",
              "      <th>category</th>\n",
              "      <th>product</th>\n",
              "      <th>no_of_CTA</th>\n",
              "      <th>mean_CTA_len</th>\n",
              "      <th>is_image</th>\n",
              "      <th>is_personalised</th>\n",
              "      <th>is_quote</th>\n",
              "      <th>is_timer</th>\n",
              "      <th>is_emoticons</th>\n",
              "      <th>is_discount</th>\n",
              "      <th>is_price</th>\n",
              "      <th>is_urgency</th>\n",
              "      <th>target_audience</th>\n",
              "    </tr>\n",
              "  </thead>\n",
              "  <tbody>\n",
              "    <tr>\n",
              "      <th>0</th>\n",
              "      <td>1889</td>\n",
              "      <td>3</td>\n",
              "      <td>61</td>\n",
              "      <td>12871</td>\n",
              "      <td>11</td>\n",
              "      <td>6</td>\n",
              "      <td>1</td>\n",
              "      <td>Noon</td>\n",
              "      <td>6</td>\n",
              "      <td>26</td>\n",
              "      <td>3</td>\n",
              "      <td>37</td>\n",
              "      <td>1</td>\n",
              "      <td>0</td>\n",
              "      <td>0</td>\n",
              "      <td>0</td>\n",
              "      <td>1</td>\n",
              "      <td>0</td>\n",
              "      <td>0</td>\n",
              "      <td>0</td>\n",
              "      <td>14</td>\n",
              "    </tr>\n",
              "    <tr>\n",
              "      <th>1</th>\n",
              "      <td>1890</td>\n",
              "      <td>3</td>\n",
              "      <td>54</td>\n",
              "      <td>2569</td>\n",
              "      <td>256</td>\n",
              "      <td>5</td>\n",
              "      <td>1</td>\n",
              "      <td>Morning</td>\n",
              "      <td>2</td>\n",
              "      <td>11</td>\n",
              "      <td>0</td>\n",
              "      <td>22</td>\n",
              "      <td>0</td>\n",
              "      <td>0</td>\n",
              "      <td>0</td>\n",
              "      <td>0</td>\n",
              "      <td>0</td>\n",
              "      <td>0</td>\n",
              "      <td>0</td>\n",
              "      <td>0</td>\n",
              "      <td>10</td>\n",
              "    </tr>\n",
              "    <tr>\n",
              "      <th>2</th>\n",
              "      <td>1891</td>\n",
              "      <td>3</td>\n",
              "      <td>88</td>\n",
              "      <td>1473</td>\n",
              "      <td>78</td>\n",
              "      <td>4</td>\n",
              "      <td>0</td>\n",
              "      <td>Evening</td>\n",
              "      <td>2</td>\n",
              "      <td>11</td>\n",
              "      <td>0</td>\n",
              "      <td>22</td>\n",
              "      <td>1</td>\n",
              "      <td>0</td>\n",
              "      <td>1</td>\n",
              "      <td>0</td>\n",
              "      <td>0</td>\n",
              "      <td>0</td>\n",
              "      <td>0</td>\n",
              "      <td>0</td>\n",
              "      <td>10</td>\n",
              "    </tr>\n",
              "    <tr>\n",
              "      <th>3</th>\n",
              "      <td>1892</td>\n",
              "      <td>3</td>\n",
              "      <td>88</td>\n",
              "      <td>1473</td>\n",
              "      <td>78</td>\n",
              "      <td>3</td>\n",
              "      <td>0</td>\n",
              "      <td>Evening</td>\n",
              "      <td>2</td>\n",
              "      <td>11</td>\n",
              "      <td>0</td>\n",
              "      <td>22</td>\n",
              "      <td>1</td>\n",
              "      <td>0</td>\n",
              "      <td>1</td>\n",
              "      <td>0</td>\n",
              "      <td>0</td>\n",
              "      <td>0</td>\n",
              "      <td>0</td>\n",
              "      <td>0</td>\n",
              "      <td>10</td>\n",
              "    </tr>\n",
              "    <tr>\n",
              "      <th>4</th>\n",
              "      <td>1893</td>\n",
              "      <td>3</td>\n",
              "      <td>78</td>\n",
              "      <td>9020</td>\n",
              "      <td>29</td>\n",
              "      <td>3</td>\n",
              "      <td>0</td>\n",
              "      <td>Noon</td>\n",
              "      <td>6</td>\n",
              "      <td>26</td>\n",
              "      <td>2</td>\n",
              "      <td>40</td>\n",
              "      <td>0</td>\n",
              "      <td>0</td>\n",
              "      <td>0</td>\n",
              "      <td>0</td>\n",
              "      <td>0</td>\n",
              "      <td>0</td>\n",
              "      <td>0</td>\n",
              "      <td>0</td>\n",
              "      <td>14</td>\n",
              "    </tr>\n",
              "  </tbody>\n",
              "</table>\n",
              "</div>\n",
              "      <button class=\"colab-df-convert\" onclick=\"convertToInteractive('df-f1acd721-5a6e-4e66-8707-73db676de5e3')\"\n",
              "              title=\"Convert this dataframe to an interactive table.\"\n",
              "              style=\"display:none;\">\n",
              "        \n",
              "  <svg xmlns=\"http://www.w3.org/2000/svg\" height=\"24px\"viewBox=\"0 0 24 24\"\n",
              "       width=\"24px\">\n",
              "    <path d=\"M0 0h24v24H0V0z\" fill=\"none\"/>\n",
              "    <path d=\"M18.56 5.44l.94 2.06.94-2.06 2.06-.94-2.06-.94-.94-2.06-.94 2.06-2.06.94zm-11 1L8.5 8.5l.94-2.06 2.06-.94-2.06-.94L8.5 2.5l-.94 2.06-2.06.94zm10 10l.94 2.06.94-2.06 2.06-.94-2.06-.94-.94-2.06-.94 2.06-2.06.94z\"/><path d=\"M17.41 7.96l-1.37-1.37c-.4-.4-.92-.59-1.43-.59-.52 0-1.04.2-1.43.59L10.3 9.45l-7.72 7.72c-.78.78-.78 2.05 0 2.83L4 21.41c.39.39.9.59 1.41.59.51 0 1.02-.2 1.41-.59l7.78-7.78 2.81-2.81c.8-.78.8-2.07 0-2.86zM5.41 20L4 18.59l7.72-7.72 1.47 1.35L5.41 20z\"/>\n",
              "  </svg>\n",
              "      </button>\n",
              "      \n",
              "  <style>\n",
              "    .colab-df-container {\n",
              "      display:flex;\n",
              "      flex-wrap:wrap;\n",
              "      gap: 12px;\n",
              "    }\n",
              "\n",
              "    .colab-df-convert {\n",
              "      background-color: #E8F0FE;\n",
              "      border: none;\n",
              "      border-radius: 50%;\n",
              "      cursor: pointer;\n",
              "      display: none;\n",
              "      fill: #1967D2;\n",
              "      height: 32px;\n",
              "      padding: 0 0 0 0;\n",
              "      width: 32px;\n",
              "    }\n",
              "\n",
              "    .colab-df-convert:hover {\n",
              "      background-color: #E2EBFA;\n",
              "      box-shadow: 0px 1px 2px rgba(60, 64, 67, 0.3), 0px 1px 3px 1px rgba(60, 64, 67, 0.15);\n",
              "      fill: #174EA6;\n",
              "    }\n",
              "\n",
              "    [theme=dark] .colab-df-convert {\n",
              "      background-color: #3B4455;\n",
              "      fill: #D2E3FC;\n",
              "    }\n",
              "\n",
              "    [theme=dark] .colab-df-convert:hover {\n",
              "      background-color: #434B5C;\n",
              "      box-shadow: 0px 1px 3px 1px rgba(0, 0, 0, 0.15);\n",
              "      filter: drop-shadow(0px 1px 2px rgba(0, 0, 0, 0.3));\n",
              "      fill: #FFFFFF;\n",
              "    }\n",
              "  </style>\n",
              "\n",
              "      <script>\n",
              "        const buttonEl =\n",
              "          document.querySelector('#df-f1acd721-5a6e-4e66-8707-73db676de5e3 button.colab-df-convert');\n",
              "        buttonEl.style.display =\n",
              "          google.colab.kernel.accessAllowed ? 'block' : 'none';\n",
              "\n",
              "        async function convertToInteractive(key) {\n",
              "          const element = document.querySelector('#df-f1acd721-5a6e-4e66-8707-73db676de5e3');\n",
              "          const dataTable =\n",
              "            await google.colab.kernel.invokeFunction('convertToInteractive',\n",
              "                                                     [key], {});\n",
              "          if (!dataTable) return;\n",
              "\n",
              "          const docLinkHtml = 'Like what you see? Visit the ' +\n",
              "            '<a target=\"_blank\" href=https://colab.research.google.com/notebooks/data_table.ipynb>data table notebook</a>'\n",
              "            + ' to learn more about interactive tables.';\n",
              "          element.innerHTML = '';\n",
              "          dataTable['output_type'] = 'display_data';\n",
              "          await google.colab.output.renderOutput(dataTable, element);\n",
              "          const docLink = document.createElement('div');\n",
              "          docLink.innerHTML = docLinkHtml;\n",
              "          element.appendChild(docLink);\n",
              "        }\n",
              "      </script>\n",
              "    </div>\n",
              "  </div>\n",
              "  "
            ],
            "text/plain": [
              "   campaign_id  sender  subject_len  body_len  mean_paragraph_len  \\\n",
              "0         1889       3           61     12871                  11   \n",
              "1         1890       3           54      2569                 256   \n",
              "2         1891       3           88      1473                  78   \n",
              "3         1892       3           88      1473                  78   \n",
              "4         1893       3           78      9020                  29   \n",
              "\n",
              "   day_of_week  is_weekend times_of_day  category  product  no_of_CTA  \\\n",
              "0            6           1         Noon         6       26          3   \n",
              "1            5           1      Morning         2       11          0   \n",
              "2            4           0      Evening         2       11          0   \n",
              "3            3           0      Evening         2       11          0   \n",
              "4            3           0         Noon         6       26          2   \n",
              "\n",
              "   mean_CTA_len  is_image  is_personalised  is_quote  is_timer  is_emoticons  \\\n",
              "0            37         1                0         0         0             1   \n",
              "1            22         0                0         0         0             0   \n",
              "2            22         1                0         1         0             0   \n",
              "3            22         1                0         1         0             0   \n",
              "4            40         0                0         0         0             0   \n",
              "\n",
              "   is_discount  is_price  is_urgency  target_audience  \n",
              "0            0         0           0               14  \n",
              "1            0         0           0               10  \n",
              "2            0         0           0               10  \n",
              "3            0         0           0               10  \n",
              "4            0         0           0               14  "
            ]
          },
          "execution_count": 34,
          "metadata": {},
          "output_type": "execute_result"
        }
      ],
      "source": [
        "test_df = pd.read_csv('https://github.com/shreyas36/data/raw/main/jt3%20click%20through%20rate%20prediction/test.csv')\n",
        "test_df.head()"
      ]
    },
    {
      "cell_type": "code",
      "execution_count": null,
      "metadata": {
        "colab": {
          "base_uri": "https://localhost:8080/"
        },
        "id": "Yj8x6rb0YSad",
        "outputId": "c37ce4f6-34a1-4ecf-8095-e7479aa789d8"
      },
      "outputs": [
        {
          "name": "stderr",
          "output_type": "stream",
          "text": [
            "INFO:logs:Initializing predict_model()\n",
            "INFO:logs:predict_model(estimator=RandomForestRegressor(bootstrap=True, ccp_alpha=0.0, criterion='mse',\n",
            "                      max_depth=None, max_features='auto', max_leaf_nodes=None,\n",
            "                      max_samples=None, min_impurity_decrease=0.0,\n",
            "                      min_impurity_split=None, min_samples_leaf=1,\n",
            "                      min_samples_split=2, min_weight_fraction_leaf=0.0,\n",
            "                      n_estimators=100, n_jobs=-1, oob_score=False,\n",
            "                      random_state=4581, verbose=0, warm_start=False), probability_threshold=None, encoded_labels=True, drift_report=False, raw_score=False, round=4, verbose=True, ml_usecase=MLUsecase.REGRESSION, display=None, drift_kwargs=None)\n",
            "INFO:logs:Checking exceptions\n",
            "INFO:logs:Preloading libraries\n",
            "INFO:logs:Preparing display monitor\n"
          ]
        }
      ],
      "source": [
        "preds=predict_model(best_model,test_df)"
      ]
    },
    {
      "cell_type": "code",
      "execution_count": null,
      "metadata": {
        "colab": {
          "base_uri": "https://localhost:8080/"
        },
        "id": "DLLRlTYxYVl2",
        "outputId": "d8e545c3-12f3-4fb9-98b6-2b77c9dc92c5"
      },
      "outputs": [
        {
          "data": {
            "text/plain": [
              "0      0.050074\n",
              "1      0.349780\n",
              "2      0.187063\n",
              "3      0.186972\n",
              "4      0.142353\n",
              "         ...   \n",
              "757    0.007561\n",
              "758    0.013704\n",
              "759    0.013930\n",
              "760    0.241524\n",
              "761    0.016562\n",
              "Name: Label, Length: 762, dtype: float64"
            ]
          },
          "execution_count": 11,
          "metadata": {},
          "output_type": "execute_result"
        }
      ],
      "source": [
        "preds['Label']"
      ]
    },
    {
      "cell_type": "code",
      "execution_count": null,
      "metadata": {
        "id": "oMiDU9TgX8uJ"
      },
      "outputs": [],
      "source": [
        "test_df['click_rate']=preds['Label']"
      ]
    },
    {
      "cell_type": "code",
      "execution_count": 35,
      "metadata": {
        "id": "Vzs7mv1AcWDG"
      },
      "outputs": [],
      "source": [
        "for i in categorical:\n",
        "    test_df[i]=labelencoder.fit_transform(test_df[i])"
      ]
    },
    {
      "cell_type": "code",
      "execution_count": 36,
      "metadata": {
        "id": "yvON_5sCcYqi"
      },
      "outputs": [],
      "source": [
        "test_df['click_rate']=regressor.predict(test_df)"
      ]
    },
    {
      "cell_type": "code",
      "execution_count": null,
      "metadata": {
        "id": "jW59DKkSYXpe"
      },
      "outputs": [],
      "source": [
        "ans=pd.DataFrame(preds['Label'])\n"
      ]
    },
    {
      "cell_type": "code",
      "execution_count": null,
      "metadata": {
        "id": "YulYSLZUT7FS"
      },
      "outputs": [],
      "source": [
        "ans=pd.DataFrame(ans)"
      ]
    },
    {
      "cell_type": "code",
      "execution_count": null,
      "metadata": {
        "id": "GKlqJtimYmYK"
      },
      "outputs": [],
      "source": [
        "ans.columns=['price']"
      ]
    },
    {
      "cell_type": "code",
      "execution_count": 37,
      "metadata": {
        "id": "vby1HiF5YyMU"
      },
      "outputs": [],
      "source": [
        "ans=test_df[['campaign_id','click_rate']]"
      ]
    },
    {
      "cell_type": "code",
      "execution_count": 39,
      "metadata": {
        "id": "K_86QLdYYe85"
      },
      "outputs": [],
      "source": [
        "ans.to_csv('jt3.csv',index=False)"
      ]
    },
    {
      "cell_type": "code",
      "execution_count": 38,
      "metadata": {
        "colab": {
          "base_uri": "https://localhost:8080/",
          "height": 424
        },
        "id": "QbZmNCjJZz99",
        "outputId": "08c33592-54fa-4cad-db1b-3efa155d0ace"
      },
      "outputs": [
        {
          "data": {
            "text/html": [
              "\n",
              "  <div id=\"df-312b2820-bf90-4fd4-a518-1eb98103a8ce\">\n",
              "    <div class=\"colab-df-container\">\n",
              "      <div>\n",
              "<style scoped>\n",
              "    .dataframe tbody tr th:only-of-type {\n",
              "        vertical-align: middle;\n",
              "    }\n",
              "\n",
              "    .dataframe tbody tr th {\n",
              "        vertical-align: top;\n",
              "    }\n",
              "\n",
              "    .dataframe thead th {\n",
              "        text-align: right;\n",
              "    }\n",
              "</style>\n",
              "<table border=\"1\" class=\"dataframe\">\n",
              "  <thead>\n",
              "    <tr style=\"text-align: right;\">\n",
              "      <th></th>\n",
              "      <th>campaign_id</th>\n",
              "      <th>click_rate</th>\n",
              "    </tr>\n",
              "  </thead>\n",
              "  <tbody>\n",
              "    <tr>\n",
              "      <th>0</th>\n",
              "      <td>1889</td>\n",
              "      <td>0.108766</td>\n",
              "    </tr>\n",
              "    <tr>\n",
              "      <th>1</th>\n",
              "      <td>1890</td>\n",
              "      <td>0.306174</td>\n",
              "    </tr>\n",
              "    <tr>\n",
              "      <th>2</th>\n",
              "      <td>1891</td>\n",
              "      <td>0.266209</td>\n",
              "    </tr>\n",
              "    <tr>\n",
              "      <th>3</th>\n",
              "      <td>1892</td>\n",
              "      <td>0.272135</td>\n",
              "    </tr>\n",
              "    <tr>\n",
              "      <th>4</th>\n",
              "      <td>1893</td>\n",
              "      <td>0.119621</td>\n",
              "    </tr>\n",
              "    <tr>\n",
              "      <th>...</th>\n",
              "      <td>...</td>\n",
              "      <td>...</td>\n",
              "    </tr>\n",
              "    <tr>\n",
              "      <th>757</th>\n",
              "      <td>2646</td>\n",
              "      <td>0.028271</td>\n",
              "    </tr>\n",
              "    <tr>\n",
              "      <th>758</th>\n",
              "      <td>2647</td>\n",
              "      <td>0.017447</td>\n",
              "    </tr>\n",
              "    <tr>\n",
              "      <th>759</th>\n",
              "      <td>2648</td>\n",
              "      <td>0.042794</td>\n",
              "    </tr>\n",
              "    <tr>\n",
              "      <th>760</th>\n",
              "      <td>2649</td>\n",
              "      <td>0.288295</td>\n",
              "    </tr>\n",
              "    <tr>\n",
              "      <th>761</th>\n",
              "      <td>2650</td>\n",
              "      <td>0.013869</td>\n",
              "    </tr>\n",
              "  </tbody>\n",
              "</table>\n",
              "<p>762 rows × 2 columns</p>\n",
              "</div>\n",
              "      <button class=\"colab-df-convert\" onclick=\"convertToInteractive('df-312b2820-bf90-4fd4-a518-1eb98103a8ce')\"\n",
              "              title=\"Convert this dataframe to an interactive table.\"\n",
              "              style=\"display:none;\">\n",
              "        \n",
              "  <svg xmlns=\"http://www.w3.org/2000/svg\" height=\"24px\"viewBox=\"0 0 24 24\"\n",
              "       width=\"24px\">\n",
              "    <path d=\"M0 0h24v24H0V0z\" fill=\"none\"/>\n",
              "    <path d=\"M18.56 5.44l.94 2.06.94-2.06 2.06-.94-2.06-.94-.94-2.06-.94 2.06-2.06.94zm-11 1L8.5 8.5l.94-2.06 2.06-.94-2.06-.94L8.5 2.5l-.94 2.06-2.06.94zm10 10l.94 2.06.94-2.06 2.06-.94-2.06-.94-.94-2.06-.94 2.06-2.06.94z\"/><path d=\"M17.41 7.96l-1.37-1.37c-.4-.4-.92-.59-1.43-.59-.52 0-1.04.2-1.43.59L10.3 9.45l-7.72 7.72c-.78.78-.78 2.05 0 2.83L4 21.41c.39.39.9.59 1.41.59.51 0 1.02-.2 1.41-.59l7.78-7.78 2.81-2.81c.8-.78.8-2.07 0-2.86zM5.41 20L4 18.59l7.72-7.72 1.47 1.35L5.41 20z\"/>\n",
              "  </svg>\n",
              "      </button>\n",
              "      \n",
              "  <style>\n",
              "    .colab-df-container {\n",
              "      display:flex;\n",
              "      flex-wrap:wrap;\n",
              "      gap: 12px;\n",
              "    }\n",
              "\n",
              "    .colab-df-convert {\n",
              "      background-color: #E8F0FE;\n",
              "      border: none;\n",
              "      border-radius: 50%;\n",
              "      cursor: pointer;\n",
              "      display: none;\n",
              "      fill: #1967D2;\n",
              "      height: 32px;\n",
              "      padding: 0 0 0 0;\n",
              "      width: 32px;\n",
              "    }\n",
              "\n",
              "    .colab-df-convert:hover {\n",
              "      background-color: #E2EBFA;\n",
              "      box-shadow: 0px 1px 2px rgba(60, 64, 67, 0.3), 0px 1px 3px 1px rgba(60, 64, 67, 0.15);\n",
              "      fill: #174EA6;\n",
              "    }\n",
              "\n",
              "    [theme=dark] .colab-df-convert {\n",
              "      background-color: #3B4455;\n",
              "      fill: #D2E3FC;\n",
              "    }\n",
              "\n",
              "    [theme=dark] .colab-df-convert:hover {\n",
              "      background-color: #434B5C;\n",
              "      box-shadow: 0px 1px 3px 1px rgba(0, 0, 0, 0.15);\n",
              "      filter: drop-shadow(0px 1px 2px rgba(0, 0, 0, 0.3));\n",
              "      fill: #FFFFFF;\n",
              "    }\n",
              "  </style>\n",
              "\n",
              "      <script>\n",
              "        const buttonEl =\n",
              "          document.querySelector('#df-312b2820-bf90-4fd4-a518-1eb98103a8ce button.colab-df-convert');\n",
              "        buttonEl.style.display =\n",
              "          google.colab.kernel.accessAllowed ? 'block' : 'none';\n",
              "\n",
              "        async function convertToInteractive(key) {\n",
              "          const element = document.querySelector('#df-312b2820-bf90-4fd4-a518-1eb98103a8ce');\n",
              "          const dataTable =\n",
              "            await google.colab.kernel.invokeFunction('convertToInteractive',\n",
              "                                                     [key], {});\n",
              "          if (!dataTable) return;\n",
              "\n",
              "          const docLinkHtml = 'Like what you see? Visit the ' +\n",
              "            '<a target=\"_blank\" href=https://colab.research.google.com/notebooks/data_table.ipynb>data table notebook</a>'\n",
              "            + ' to learn more about interactive tables.';\n",
              "          element.innerHTML = '';\n",
              "          dataTable['output_type'] = 'display_data';\n",
              "          await google.colab.output.renderOutput(dataTable, element);\n",
              "          const docLink = document.createElement('div');\n",
              "          docLink.innerHTML = docLinkHtml;\n",
              "          element.appendChild(docLink);\n",
              "        }\n",
              "      </script>\n",
              "    </div>\n",
              "  </div>\n",
              "  "
            ],
            "text/plain": [
              "     campaign_id  click_rate\n",
              "0           1889    0.108766\n",
              "1           1890    0.306174\n",
              "2           1891    0.266209\n",
              "3           1892    0.272135\n",
              "4           1893    0.119621\n",
              "..           ...         ...\n",
              "757         2646    0.028271\n",
              "758         2647    0.017447\n",
              "759         2648    0.042794\n",
              "760         2649    0.288295\n",
              "761         2650    0.013869\n",
              "\n",
              "[762 rows x 2 columns]"
            ]
          },
          "execution_count": 38,
          "metadata": {},
          "output_type": "execute_result"
        }
      ],
      "source": [
        "ans"
      ]
    },
    {
      "cell_type": "code",
      "execution_count": null,
      "metadata": {
        "colab": {
          "base_uri": "https://localhost:8080/",
          "height": 424
        },
        "id": "TOuNr3VnYLYP",
        "outputId": "0aa905eb-48f8-46ce-884a-146cfe042e43"
      },
      "outputs": [
        {
          "data": {
            "text/html": [
              "\n",
              "  <div id=\"df-60b74f2a-3b25-47e8-aa20-560cbdb447e4\">\n",
              "    <div class=\"colab-df-container\">\n",
              "      <div>\n",
              "<style scoped>\n",
              "    .dataframe tbody tr th:only-of-type {\n",
              "        vertical-align: middle;\n",
              "    }\n",
              "\n",
              "    .dataframe tbody tr th {\n",
              "        vertical-align: top;\n",
              "    }\n",
              "\n",
              "    .dataframe thead th {\n",
              "        text-align: right;\n",
              "    }\n",
              "</style>\n",
              "<table border=\"1\" class=\"dataframe\">\n",
              "  <thead>\n",
              "    <tr style=\"text-align: right;\">\n",
              "      <th></th>\n",
              "      <th>campaign_id</th>\n",
              "      <th>click_rate</th>\n",
              "    </tr>\n",
              "  </thead>\n",
              "  <tbody>\n",
              "    <tr>\n",
              "      <th>0</th>\n",
              "      <td>1889</td>\n",
              "      <td>0.043454</td>\n",
              "    </tr>\n",
              "    <tr>\n",
              "      <th>1</th>\n",
              "      <td>1890</td>\n",
              "      <td>0.043454</td>\n",
              "    </tr>\n",
              "    <tr>\n",
              "      <th>2</th>\n",
              "      <td>1891</td>\n",
              "      <td>0.043454</td>\n",
              "    </tr>\n",
              "    <tr>\n",
              "      <th>3</th>\n",
              "      <td>1892</td>\n",
              "      <td>0.043454</td>\n",
              "    </tr>\n",
              "    <tr>\n",
              "      <th>4</th>\n",
              "      <td>1893</td>\n",
              "      <td>0.043454</td>\n",
              "    </tr>\n",
              "    <tr>\n",
              "      <th>...</th>\n",
              "      <td>...</td>\n",
              "      <td>...</td>\n",
              "    </tr>\n",
              "    <tr>\n",
              "      <th>757</th>\n",
              "      <td>2646</td>\n",
              "      <td>0.043454</td>\n",
              "    </tr>\n",
              "    <tr>\n",
              "      <th>758</th>\n",
              "      <td>2647</td>\n",
              "      <td>0.043454</td>\n",
              "    </tr>\n",
              "    <tr>\n",
              "      <th>759</th>\n",
              "      <td>2648</td>\n",
              "      <td>0.043454</td>\n",
              "    </tr>\n",
              "    <tr>\n",
              "      <th>760</th>\n",
              "      <td>2649</td>\n",
              "      <td>0.043454</td>\n",
              "    </tr>\n",
              "    <tr>\n",
              "      <th>761</th>\n",
              "      <td>2650</td>\n",
              "      <td>0.043454</td>\n",
              "    </tr>\n",
              "  </tbody>\n",
              "</table>\n",
              "<p>762 rows × 2 columns</p>\n",
              "</div>\n",
              "      <button class=\"colab-df-convert\" onclick=\"convertToInteractive('df-60b74f2a-3b25-47e8-aa20-560cbdb447e4')\"\n",
              "              title=\"Convert this dataframe to an interactive table.\"\n",
              "              style=\"display:none;\">\n",
              "        \n",
              "  <svg xmlns=\"http://www.w3.org/2000/svg\" height=\"24px\"viewBox=\"0 0 24 24\"\n",
              "       width=\"24px\">\n",
              "    <path d=\"M0 0h24v24H0V0z\" fill=\"none\"/>\n",
              "    <path d=\"M18.56 5.44l.94 2.06.94-2.06 2.06-.94-2.06-.94-.94-2.06-.94 2.06-2.06.94zm-11 1L8.5 8.5l.94-2.06 2.06-.94-2.06-.94L8.5 2.5l-.94 2.06-2.06.94zm10 10l.94 2.06.94-2.06 2.06-.94-2.06-.94-.94-2.06-.94 2.06-2.06.94z\"/><path d=\"M17.41 7.96l-1.37-1.37c-.4-.4-.92-.59-1.43-.59-.52 0-1.04.2-1.43.59L10.3 9.45l-7.72 7.72c-.78.78-.78 2.05 0 2.83L4 21.41c.39.39.9.59 1.41.59.51 0 1.02-.2 1.41-.59l7.78-7.78 2.81-2.81c.8-.78.8-2.07 0-2.86zM5.41 20L4 18.59l7.72-7.72 1.47 1.35L5.41 20z\"/>\n",
              "  </svg>\n",
              "      </button>\n",
              "      \n",
              "  <style>\n",
              "    .colab-df-container {\n",
              "      display:flex;\n",
              "      flex-wrap:wrap;\n",
              "      gap: 12px;\n",
              "    }\n",
              "\n",
              "    .colab-df-convert {\n",
              "      background-color: #E8F0FE;\n",
              "      border: none;\n",
              "      border-radius: 50%;\n",
              "      cursor: pointer;\n",
              "      display: none;\n",
              "      fill: #1967D2;\n",
              "      height: 32px;\n",
              "      padding: 0 0 0 0;\n",
              "      width: 32px;\n",
              "    }\n",
              "\n",
              "    .colab-df-convert:hover {\n",
              "      background-color: #E2EBFA;\n",
              "      box-shadow: 0px 1px 2px rgba(60, 64, 67, 0.3), 0px 1px 3px 1px rgba(60, 64, 67, 0.15);\n",
              "      fill: #174EA6;\n",
              "    }\n",
              "\n",
              "    [theme=dark] .colab-df-convert {\n",
              "      background-color: #3B4455;\n",
              "      fill: #D2E3FC;\n",
              "    }\n",
              "\n",
              "    [theme=dark] .colab-df-convert:hover {\n",
              "      background-color: #434B5C;\n",
              "      box-shadow: 0px 1px 3px 1px rgba(0, 0, 0, 0.15);\n",
              "      filter: drop-shadow(0px 1px 2px rgba(0, 0, 0, 0.3));\n",
              "      fill: #FFFFFF;\n",
              "    }\n",
              "  </style>\n",
              "\n",
              "      <script>\n",
              "        const buttonEl =\n",
              "          document.querySelector('#df-60b74f2a-3b25-47e8-aa20-560cbdb447e4 button.colab-df-convert');\n",
              "        buttonEl.style.display =\n",
              "          google.colab.kernel.accessAllowed ? 'block' : 'none';\n",
              "\n",
              "        async function convertToInteractive(key) {\n",
              "          const element = document.querySelector('#df-60b74f2a-3b25-47e8-aa20-560cbdb447e4');\n",
              "          const dataTable =\n",
              "            await google.colab.kernel.invokeFunction('convertToInteractive',\n",
              "                                                     [key], {});\n",
              "          if (!dataTable) return;\n",
              "\n",
              "          const docLinkHtml = 'Like what you see? Visit the ' +\n",
              "            '<a target=\"_blank\" href=https://colab.research.google.com/notebooks/data_table.ipynb>data table notebook</a>'\n",
              "            + ' to learn more about interactive tables.';\n",
              "          element.innerHTML = '';\n",
              "          dataTable['output_type'] = 'display_data';\n",
              "          await google.colab.output.renderOutput(dataTable, element);\n",
              "          const docLink = document.createElement('div');\n",
              "          docLink.innerHTML = docLinkHtml;\n",
              "          element.appendChild(docLink);\n",
              "        }\n",
              "      </script>\n",
              "    </div>\n",
              "  </div>\n",
              "  "
            ],
            "text/plain": [
              "     campaign_id  click_rate\n",
              "0           1889    0.043454\n",
              "1           1890    0.043454\n",
              "2           1891    0.043454\n",
              "3           1892    0.043454\n",
              "4           1893    0.043454\n",
              "..           ...         ...\n",
              "757         2646    0.043454\n",
              "758         2647    0.043454\n",
              "759         2648    0.043454\n",
              "760         2649    0.043454\n",
              "761         2650    0.043454\n",
              "\n",
              "[762 rows x 2 columns]"
            ]
          },
          "execution_count": 17,
          "metadata": {},
          "output_type": "execute_result"
        }
      ],
      "source": [
        "pd.read_csv('https://datahack-prod.s3.amazonaws.com/sample_submission/sample_submission_LJ2N3ZQ.csv')"
      ]
    },
    {
      "cell_type": "code",
      "execution_count": null,
      "metadata": {
        "id": "kqyJhhwlabN1"
      },
      "outputs": [],
      "source": [
        "\n",
        "insert into data_profile_rule_info Values(4, 'STATEMENT_HIST_VW', 'snowflake', 'EDH_DB', 'JS_STATEMENT', 'Y', 'STATEMENT_DT', 'N', sysdate, sysdate)\n"
      ]
    }
  ],
  "metadata": {
    "colab": {
      "collapsed_sections": [],
      "name": "jt3 CTR.ipynb",
      "provenance": []
    },
    "kernelspec": {
      "display_name": "Python 3.10.4 ('tnd_v4')",
      "language": "python",
      "name": "python3"
    },
    "language_info": {
      "codemirror_mode": {
        "name": "ipython",
        "version": 3
      },
      "file_extension": ".py",
      "mimetype": "text/x-python",
      "name": "python",
      "nbconvert_exporter": "python",
      "pygments_lexer": "ipython3",
      "version": "3.10.4"
    },
    "vscode": {
      "interpreter": {
        "hash": "04e4e0519f381b5834dbc65e31d6dde94351cdcb6d81034314a5e58d08283ba6"
      }
    },
    "widgets": {
      "application/vnd.jupyter.widget-state+json": {
        "167dabe481484ea5a62e30aa16a4625a": {
          "model_module": "@jupyter-widgets/controls",
          "model_module_version": "1.5.0",
          "model_name": "IntProgressModel",
          "state": {
            "_dom_classes": [],
            "_model_module": "@jupyter-widgets/controls",
            "_model_module_version": "1.5.0",
            "_model_name": "IntProgressModel",
            "_view_count": null,
            "_view_module": "@jupyter-widgets/controls",
            "_view_module_version": "1.5.0",
            "_view_name": "ProgressView",
            "bar_style": "",
            "description": "Processing: ",
            "description_tooltip": null,
            "layout": "IPY_MODEL_b4856622b0eb40fbb92dfdd87be0b028",
            "max": 94,
            "min": 0,
            "orientation": "horizontal",
            "style": "IPY_MODEL_362eaddbfabe4278b1a84095986890b4",
            "value": 94
          }
        },
        "362eaddbfabe4278b1a84095986890b4": {
          "model_module": "@jupyter-widgets/controls",
          "model_module_version": "1.5.0",
          "model_name": "ProgressStyleModel",
          "state": {
            "_model_module": "@jupyter-widgets/controls",
            "_model_module_version": "1.5.0",
            "_model_name": "ProgressStyleModel",
            "_view_count": null,
            "_view_module": "@jupyter-widgets/base",
            "_view_module_version": "1.2.0",
            "_view_name": "StyleView",
            "bar_color": null,
            "description_width": ""
          }
        },
        "466044bff1244041951dd70cc6445168": {
          "model_module": "@jupyter-widgets/controls",
          "model_module_version": "1.5.0",
          "model_name": "IntProgressModel",
          "state": {
            "_dom_classes": [],
            "_model_module": "@jupyter-widgets/controls",
            "_model_module_version": "1.5.0",
            "_model_name": "IntProgressModel",
            "_view_count": null,
            "_view_module": "@jupyter-widgets/controls",
            "_view_module_version": "1.5.0",
            "_view_name": "ProgressView",
            "bar_style": "",
            "description": "Processing: ",
            "description_tooltip": null,
            "layout": "IPY_MODEL_f3ef04d6f036447c96c63dd94b0f8ac9",
            "max": 5,
            "min": 0,
            "orientation": "horizontal",
            "style": "IPY_MODEL_521c8f6ce4fa4bf4b60e9ed1d3c5e220",
            "value": 5
          }
        },
        "521c8f6ce4fa4bf4b60e9ed1d3c5e220": {
          "model_module": "@jupyter-widgets/controls",
          "model_module_version": "1.5.0",
          "model_name": "ProgressStyleModel",
          "state": {
            "_model_module": "@jupyter-widgets/controls",
            "_model_module_version": "1.5.0",
            "_model_name": "ProgressStyleModel",
            "_view_count": null,
            "_view_module": "@jupyter-widgets/base",
            "_view_module_version": "1.2.0",
            "_view_name": "StyleView",
            "bar_color": null,
            "description_width": ""
          }
        },
        "b4856622b0eb40fbb92dfdd87be0b028": {
          "model_module": "@jupyter-widgets/base",
          "model_module_version": "1.2.0",
          "model_name": "LayoutModel",
          "state": {
            "_model_module": "@jupyter-widgets/base",
            "_model_module_version": "1.2.0",
            "_model_name": "LayoutModel",
            "_view_count": null,
            "_view_module": "@jupyter-widgets/base",
            "_view_module_version": "1.2.0",
            "_view_name": "LayoutView",
            "align_content": null,
            "align_items": null,
            "align_self": null,
            "border": null,
            "bottom": null,
            "display": null,
            "flex": null,
            "flex_flow": null,
            "grid_area": null,
            "grid_auto_columns": null,
            "grid_auto_flow": null,
            "grid_auto_rows": null,
            "grid_column": null,
            "grid_gap": null,
            "grid_row": null,
            "grid_template_areas": null,
            "grid_template_columns": null,
            "grid_template_rows": null,
            "height": null,
            "justify_content": null,
            "justify_items": null,
            "left": null,
            "margin": null,
            "max_height": null,
            "max_width": null,
            "min_height": null,
            "min_width": null,
            "object_fit": null,
            "object_position": null,
            "order": null,
            "overflow": null,
            "overflow_x": null,
            "overflow_y": null,
            "padding": null,
            "right": null,
            "top": null,
            "visibility": null,
            "width": null
          }
        },
        "f3ef04d6f036447c96c63dd94b0f8ac9": {
          "model_module": "@jupyter-widgets/base",
          "model_module_version": "1.2.0",
          "model_name": "LayoutModel",
          "state": {
            "_model_module": "@jupyter-widgets/base",
            "_model_module_version": "1.2.0",
            "_model_name": "LayoutModel",
            "_view_count": null,
            "_view_module": "@jupyter-widgets/base",
            "_view_module_version": "1.2.0",
            "_view_name": "LayoutView",
            "align_content": null,
            "align_items": null,
            "align_self": null,
            "border": null,
            "bottom": null,
            "display": null,
            "flex": null,
            "flex_flow": null,
            "grid_area": null,
            "grid_auto_columns": null,
            "grid_auto_flow": null,
            "grid_auto_rows": null,
            "grid_column": null,
            "grid_gap": null,
            "grid_row": null,
            "grid_template_areas": null,
            "grid_template_columns": null,
            "grid_template_rows": null,
            "height": null,
            "justify_content": null,
            "justify_items": null,
            "left": null,
            "margin": null,
            "max_height": null,
            "max_width": null,
            "min_height": null,
            "min_width": null,
            "object_fit": null,
            "object_position": null,
            "order": null,
            "overflow": null,
            "overflow_x": null,
            "overflow_y": null,
            "padding": null,
            "right": null,
            "top": null,
            "visibility": null,
            "width": null
          }
        }
      }
    }
  },
  "nbformat": 4,
  "nbformat_minor": 0
}
